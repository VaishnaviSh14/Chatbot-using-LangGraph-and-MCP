{
 "cells": [
  {
   "cell_type": "code",
   "execution_count": 51,
   "id": "58681b58",
   "metadata": {},
   "outputs": [],
   "source": [
    "import os\n",
    "from typing import TypedDict, Annotated, List, Literal\n",
    "from langchain_core.messages import BaseMessage, HumanMessage, AIMessage, SystemMessage\n",
    "from langchain_groq import ChatGroq\n",
    "from langchain_core.tools import tool\n",
    "from langchain_community.tools.tavily_search import TavilySearchResults\n",
    "from langgraph.graph import StateGraph, END\n",
    "from langgraph.prebuilt import create_react_agent\n",
    "from langgraph.checkpoint.memory import MemorySaver"
   ]
  },
  {
   "cell_type": "code",
   "execution_count": 52,
   "id": "8ab35fd1",
   "metadata": {},
   "outputs": [],
   "source": [
    "import os\n",
    "from dotenv import load_dotenv\n",
    "load_dotenv()\n",
    "\n",
    "os.environ[\"GROQ_API_KEY\"]=os.getenv(\"GROQ_API_KEY\")"
   ]
  },
  {
   "cell_type": "code",
   "execution_count": 53,
   "id": "f714f8e6",
   "metadata": {},
   "outputs": [],
   "source": [
    "from langgraph.graph import StateGraph, END, MessagesState\n",
    "from langgraph.prebuilt import ToolNode\n",
    "from langgraph.checkpoint.memory import MemorySaver"
   ]
  },
  {
   "cell_type": "code",
   "execution_count": 54,
   "id": "4fbc4eb6",
   "metadata": {},
   "outputs": [],
   "source": [
    "## Define the state\n",
    "class AgentState(MessagesState):\n",
    "    next_agent:str #which agent should go next "
   ]
  },
  {
   "cell_type": "code",
   "execution_count": 55,
   "id": "e1762dd9",
   "metadata": {},
   "outputs": [],
   "source": [
    "# Create simple tools\n",
    "@tool\n",
    "def search_web(query: str) -> str:\n",
    "    \"\"\"Search the web for information.\"\"\"\n",
    "    # Using Tavily for web search\n",
    "    search = TavilySearchResults(max_results=3)\n",
    "    results = search.invoke(query)\n",
    "    return str(results)\n",
    "\n",
    "@tool\n",
    "def write_summary(content: str) -> str:\n",
    "    \"\"\"Write a summary of the provided content.\"\"\"\n",
    "    # Simple summary generation\n",
    "    summary = f\"Summary of findings:\\n\\n{content[:500]}...\"\n",
    "    return summary"
   ]
  },
  {
   "cell_type": "code",
   "execution_count": 56,
   "id": "77b1f4db",
   "metadata": {},
   "outputs": [
    {
     "data": {
      "text/plain": [
       "ChatGroq(client=<groq.resources.chat.completions.Completions object at 0x0000027D70110A50>, async_client=<groq.resources.chat.completions.AsyncCompletions object at 0x0000027D70111450>, model_name='llama-3.1-8b-instant', model_kwargs={}, groq_api_key=SecretStr('**********'))"
      ]
     },
     "execution_count": 56,
     "metadata": {},
     "output_type": "execute_result"
    }
   ],
   "source": [
    "\n",
    "from langchain_groq import ChatGroq\n",
    "llm = ChatGroq(model=\"llama-3.1-8b-instant\")\n",
    "llm"
   ]
  },
  {
   "cell_type": "code",
   "execution_count": 57,
   "id": "aa9ad307",
   "metadata": {},
   "outputs": [],
   "source": [
    "# Define agent functions (simpler approach)\n",
    "def researcher_agent(state: AgentState):\n",
    "    \"\"\"Researcher agent that searches for information\"\"\"\n",
    "    \n",
    "    messages = state[\"messages\"]\n",
    "    \n",
    "    # Add system message for context\n",
    "    system_msg = SystemMessage(content=\"You are a research assistant. Use the search_web tool to find information about the user's request.\")\n",
    "    \n",
    "    # Call LLM with tools\n",
    "    researcher_llm = llm.bind_tools([search_web])\n",
    "    response = researcher_llm.invoke([system_msg] + messages)\n",
    "    \n",
    "    # Return the response and route to writer\n",
    "    return {\n",
    "        \"messages\": [response],\n",
    "        \"next_agent\": \"writer\"\n",
    "    }"
   ]
  },
  {
   "cell_type": "code",
   "execution_count": 58,
   "id": "13344bce",
   "metadata": {},
   "outputs": [],
   "source": [
    "def writer_agent(state: AgentState):\n",
    "    \"\"\"Writer agent that creates summaries\"\"\"\n",
    "    \n",
    "    messages = state[\"messages\"]\n",
    "    \n",
    "    # Add system message\n",
    "    system_msg = SystemMessage(content=\"You are a technical writer. Review the conversation and create a clear, concise summary of the findings.\")\n",
    "    \n",
    "    # Simple completion without tools\n",
    "    response = llm.invoke([system_msg] + messages)\n",
    "    \n",
    "    return {\n",
    "        \"messages\": [response],\n",
    "        \"next_agent\": \"end\"\n",
    "    }"
   ]
  },
  {
   "cell_type": "code",
   "execution_count": 59,
   "id": "7001cc10",
   "metadata": {},
   "outputs": [],
   "source": [
    "# We will check if any tool call needs to be made or not\n",
    "# Tool executor node\n",
    "def execute_tools(state: AgentState):\n",
    "    \"\"\"Execute any pending tool calls\"\"\"\n",
    "    messages = state[\"messages\"]\n",
    "    last_message = messages[-1]\n",
    "    \n",
    "    # Check if there are tool calls to execute\n",
    "    if hasattr(last_message, \"tool_calls\") and last_message.tool_calls:\n",
    "        # Create tool node and execute\n",
    "        tool_node = ToolNode([search_web, write_summary])\n",
    "        response = tool_node.invoke(state)\n",
    "        return response\n",
    "    \n",
    "    # No tools to execute\n",
    "    return state\n"
   ]
  },
  {
   "cell_type": "code",
   "execution_count": 60,
   "id": "0ba8c814",
   "metadata": {},
   "outputs": [
    {
     "data": {
      "image/png": "[encoded data removed]",
      "text/plain": [
       "<langgraph.graph.state.CompiledStateGraph object at 0x0000027D6F54E780>"
      ]
     },
     "execution_count": 60,
     "metadata": {},
     "output_type": "execute_result"
    }
   ],
   "source": [
    "# Build graph\n",
    "workflow = StateGraph(MessagesState)\n",
    "\n",
    "# Add nodes\n",
    "workflow.add_node(\"researcher\", researcher_agent)\n",
    "workflow.add_node(\"writer\", writer_agent)\n",
    "\n",
    "# Define flow\n",
    "workflow.set_entry_point(\"researcher\")\n",
    "workflow.add_edge(\"researcher\", \"writer\")\n",
    "workflow.add_edge(\"writer\", END)\n",
    "final_workflow=workflow.compile()\n",
    "\n",
    "final_workflow"
   ]
  },
  {
   "cell_type": "code",
   "execution_count": 61,
   "id": "418c9cbc",
   "metadata": {},
   "outputs": [],
   "source": [
    "response=final_workflow.invoke({\"messages\":\"Reasearch about the usecase of agentic ai in business\"})\n"
   ]
  },
  {
   "cell_type": "code",
   "execution_count": 62,
   "id": "e02c6be5",
   "metadata": {},
   "outputs": [
    {
     "data": {
      "text/plain": [
       "''"
      ]
     },
     "execution_count": 62,
     "metadata": {},
     "output_type": "execute_result"
    }
   ],
   "source": [
    "response[\"messages\"][-1].content\n"
   ]
  },
  {
   "cell_type": "markdown",
   "id": "612377e1",
   "metadata": {},
   "source": [
    "# supervise Multi Ai Agent Architecture\n"
   ]
  },
  {
   "cell_type": "code",
   "execution_count": 63,
   "id": "940c4438",
   "metadata": {},
   "outputs": [],
   "source": [
    "from typing import TypedDict, Annotated, List, Literal, Dict, Any\n",
    "from langchain_core.messages import BaseMessage, HumanMessage, AIMessage, SystemMessage\n",
    "from langgraph.graph import StateGraph, END, MessagesState\n",
    "from langgraph.checkpoint.memory import MemorySaver\n",
    "import random\n",
    "from datetime import datetime"
   ]
  },
  {
   "cell_type": "code",
   "execution_count": 64,
   "id": "543ab7ae",
   "metadata": {},
   "outputs": [],
   "source": [
    "# ===================================\n",
    "# State Definition\n",
    "# ===================================\n",
    "\n",
    "# ===================================\n",
    "# State Definition\n",
    "# ===================================\n",
    "\n",
    "class SupervisorState(MessagesState):\n",
    "    \"\"\"State for the multi-agent system\"\"\"\n",
    "    next_agent: str = \"\"\n",
    "    research_data: str = \"\"\n",
    "    analysis: str = \"\"\n",
    "    final_report: str = \"\"\n",
    "    task_complete: bool = False\n",
    "    current_task: str = \"\""
   ]
  },
  {
   "cell_type": "markdown",
   "id": "ee4caf99",
   "metadata": {},
   "source": [
    "What This Does:\n",
    "\n",
    "Creates a prompt chain where:\n",
    "\n",
    "System message: tells the LLM what its role is.\n",
    "\n",
    "Human message: passes in the current task description from the user."
   ]
  },
  {
   "cell_type": "code",
   "execution_count": 65,
   "id": "c200b681",
   "metadata": {},
   "outputs": [],
   "source": [
    "# ===================================\n",
    "# Supervisor with Groq LLM\n",
    "# ===================================\n",
    "from langchain_core.prompts import ChatPromptTemplate\n",
    "def create_supervisor_chain():\n",
    "    \"\"\"Creates the supervisor decision chain\"\"\"\n",
    "    \n",
    "    supervisor_prompt = ChatPromptTemplate.from_messages([\n",
    "        (\"system\", \"\"\"You are a supervisor managing a team of agents:\n",
    "        \n",
    "1. Researcher - Gathers information and data\n",
    "2. Analyst - Analyzes data and provides insights  \n",
    "3. Writer - Creates reports and summaries\n",
    "\n",
    "Based on the current state and conversation, decide which agent should work next.\n",
    "If the task is complete, respond with 'DONE'.\n",
    "\n",
    "Current state:\n",
    "- Has research data: {has_research}\n",
    "- Has analysis: {has_analysis}\n",
    "- Has report: {has_report}\n",
    "\n",
    "Respond with ONLY the agent name (researcher/analyst/writer) or 'DONE'.\n",
    "\"\"\"),\n",
    "        (\"human\", \"{task}\")\n",
    "    ])\n",
    "    \n",
    "    return supervisor_prompt | llm"
   ]
  },
  {
   "cell_type": "code",
   "execution_count": 66,
   "id": "d0e7a320",
   "metadata": {},
   "outputs": [],
   "source": [
    "def supervisor_agent(state: SupervisorState) -> Dict:\n",
    "    \"\"\"Supervisor decides next agent using Groq LLM\"\"\"\n",
    "    \n",
    "    messages = state[\"messages\"] #state[\"messages\"] contains all previous chat messages (conversation history).\n",
    "    task = messages[-1].content if messages else \"No task\" #It takes the latest message as the current task.\n",
    "    \n",
    "    # Check what's been completed\n",
    "    has_research = bool(state.get(\"research_data\", \"\"))\n",
    "    has_analysis = bool(state.get(\"analysis\", \"\"))\n",
    "    has_report = bool(state.get(\"final_report\", \"\"))\n",
    "    \n",
    "    # Get LLM decision\n",
    "    chain = create_supervisor_chain()\n",
    "    decision = chain.invoke({\n",
    "        \"task\": task,\n",
    "        \"has_research\": has_research,\n",
    "        \"has_analysis\": has_analysis,\n",
    "        \"has_report\": has_report\n",
    "    })\n",
    "    \n",
    "    # Parse decision\n",
    "    decision_text = decision.content.strip().lower() #remove whitespaces and convert to lowercase\n",
    "    print(decision_text)\n",
    "    \n",
    "    # Determine next agent\n",
    "    if \"done\" in decision_text or has_report:\n",
    "        next_agent = \"end\"\n",
    "        supervisor_msg = \"✅ Supervisor: All tasks complete! Great work team.\"\n",
    "    elif \"researcher\" in decision_text or not has_research:\n",
    "        next_agent = \"researcher\"\n",
    "        supervisor_msg = \"📋 Supervisor: Let's start with research. Assigning to Researcher...\"\n",
    "    elif \"analyst\" in decision_text or (has_research and not has_analysis):\n",
    "        next_agent = \"analyst\"\n",
    "        supervisor_msg = \"📋 Supervisor: Research done. Time for analysis. Assigning to Analyst...\"\n",
    "    elif \"writer\" in decision_text or (has_analysis and not has_report):\n",
    "        next_agent = \"writer\"\n",
    "        supervisor_msg = \"📋 Supervisor: Analysis complete. Let's create the report. Assigning to Writer...\"\n",
    "    else:\n",
    "        next_agent = \"end\"\n",
    "        supervisor_msg = \"✅ Supervisor: Task seems complete.\"\n",
    "    \n",
    "#The new supervisor message is added to conversation history.\n",
    "#next_agent tells LangGraph which node to call next.\n",
    "#current_task tracks the task being processed.\n",
    "\n",
    "    return {\n",
    "        \"messages\": [AIMessage(content=supervisor_msg)],\n",
    "        \"next_agent\": next_agent,\n",
    "        \"current_task\": task\n",
    "    }"
   ]
  },
  {
   "cell_type": "code",
   "execution_count": 67,
   "id": "be658fd9",
   "metadata": {},
   "outputs": [],
   "source": [
    "# ===================================\n",
    "# Agent 1: Researcher (using Groq)\n",
    "# ===================================\n",
    "\n",
    "def researcher_agent(state: SupervisorState) -> Dict:\n",
    "    \"\"\"Researcher uses Groq to gather information\"\"\"\n",
    "    \n",
    "    #Reads the task from SupervisorState. If no task is set yet, it defaults to \"research topic\".\n",
    "    task = state.get(\"current_task\", \"research topic\")\n",
    "    \n",
    "    # Create research prompt\n",
    "    research_prompt = f\"\"\"As a research specialist, provide comprehensive information about: {task}\n",
    "\n",
    "    Include:\n",
    "    1. Key facts and background\n",
    "    2. Current trends or developments\n",
    "    3. Important statistics or data points\n",
    "    4. Notable examples or case studies\n",
    "    \n",
    "    Be concise but thorough.\"\"\"\n",
    "    \n",
    "    # Get research from LLM\n",
    "    research_response = llm.invoke([HumanMessage(content=research_prompt)])\n",
    "    research_data = research_response.content\n",
    "    \n",
    "    # Create agent message\n",
    "    agent_message = f\"🔍 Researcher: I've completed the research on '{task}'.\\n\\nKey findings:\\n{research_data[:500]}...\"\n",
    "    \n",
    "    return {\n",
    "        \"messages\": [AIMessage(content=agent_message)], #Adds the research summary to the conversation log.\n",
    "        \"research_data\": research_data, #Stores full research results (used later by Analyst).\n",
    "        \"next_agent\": \"supervisor\"\n",
    "    }\n"
   ]
  },
  {
   "cell_type": "code",
   "execution_count": 68,
   "id": "efd7d3a6",
   "metadata": {},
   "outputs": [],
   "source": [
    "# ===================================\n",
    "# Agent 2: Analyst (using Groq)\n",
    "# ===================================\n",
    "\n",
    "def analyst_agent(state: SupervisorState) -> Dict:\n",
    "    \"\"\"Analyst uses Groq to analyze the research\"\"\"\n",
    "    \n",
    "    research_data = state.get(\"research_data\", \"\")\n",
    "    task = state.get(\"current_task\", \"\")\n",
    "    \n",
    "    # Create analysis prompt\n",
    "    analysis_prompt = f\"\"\"As a data analyst, analyze this research data and provide insights:\n",
    "\n",
    "Research Data:\n",
    "{research_data}\n",
    "\n",
    "Provide:\n",
    "1. Key insights and patterns\n",
    "2. Strategic implications\n",
    "3. Risks and opportunities\n",
    "4. Recommendations\n",
    "\n",
    "Focus on actionable insights related to: {task}\"\"\"\n",
    "    \n",
    "    # Get analysis from LLM\n",
    "    analysis_response = llm.invoke([HumanMessage(content=analysis_prompt)])\n",
    "    analysis = analysis_response.content\n",
    "    \n",
    "    # Create agent message - prepare a human readable message\n",
    "    agent_message = f\"📊 Analyst: I've completed the analysis.\\n\\nTop insights:\\n{analysis[:400]}...\"\n",
    "    \n",
    "    return {\n",
    "        \"messages\": [AIMessage(content=agent_message)],\n",
    "        \"analysis\": analysis,\n",
    "        \"next_agent\": \"supervisor\"\n",
    "    }\n"
   ]
  },
  {
   "cell_type": "code",
   "execution_count": 69,
   "id": "1301659f",
   "metadata": {},
   "outputs": [],
   "source": [
    "# ===================================\n",
    "# Agent 3: Writer (using Groq)\n",
    "# ===================================\n",
    "\n",
    "def writer_agent(state: SupervisorState) -> Dict:\n",
    "    \"\"\"Writer uses Groq to create final report\"\"\"\n",
    "    \n",
    "    research_data = state.get(\"research_data\", \"\")\n",
    "    analysis = state.get(\"analysis\", \"\")\n",
    "    task = state.get(\"current_task\", \"\")\n",
    "    \n",
    "    # Create writing prompt\n",
    "    writing_prompt = f\"\"\"As a professional writer, create an executive report based on:\n",
    "\n",
    "Task: {task}\n",
    "\n",
    "Research Findings:\n",
    "{research_data[:1000]}\n",
    "\n",
    "Analysis:\n",
    "{analysis[:1000]}\n",
    "\n",
    "Create a well-structured report with:\n",
    "1. Executive Summary\n",
    "2. Key Findings  \n",
    "3. Analysis & Insights\n",
    "4. Recommendations\n",
    "5. Conclusion\n",
    "\n",
    "Keep it professional and concise.\"\"\"\n",
    "    \n",
    "    # Get report from LLM\n",
    "    report_response = llm.invoke([HumanMessage(content=writing_prompt)])\n",
    "    report = report_response.content\n",
    "    \n",
    "    # Create final formatted report\n",
    "    final_report = f\"\"\"\n",
    "📄 FINAL REPORT\n",
    "{'='*50}\n",
    "Generated: {datetime.now().strftime('%Y-%m-%d %H:%M')}\n",
    "Topic: {task}\n",
    "{'='*50}\n",
    "\n",
    "{report}\n",
    "\n",
    "{'='*50}\n",
    "Report compiled by Multi-Agent AI System powered by Groq\n",
    "\"\"\"\n",
    "    \n",
    "    return {\n",
    "        \"messages\": [AIMessage(content=f\"✍️ Writer: Report complete! See below for the full document.\")],\n",
    "        \"final_report\": final_report,\n",
    "        \"next_agent\": \"supervisor\",\n",
    "        \"task_complete\": True\n",
    "    }"
   ]
  },
  {
   "cell_type": "code",
   "execution_count": 70,
   "id": "527777b7",
   "metadata": {},
   "outputs": [],
   "source": [
    "# ===================================\n",
    "# Router Function\n",
    "# ===================================\n",
    "\n",
    "#In a LangGraph, a router is basically a switch that decides which \"edge\" or \"node\" to follow next.\n",
    "def router(state: SupervisorState) -> Literal[\"supervisor\", \"researcher\", \"analyst\", \"writer\", \"__end__\"]:\n",
    "    \"\"\"Routes to next agent based on state\"\"\"\n",
    "    \n",
    "    next_agent = state.get(\"next_agent\", \"supervisor\")\n",
    "    \n",
    "    if next_agent == \"end\" or state.get(\"task_complete\", False):\n",
    "        return END\n",
    "        \n",
    "    if next_agent in [\"supervisor\", \"researcher\", \"analyst\", \"writer\"]:\n",
    "        return next_agent\n",
    "        \n",
    "    #If somehow next_agent was something unknown, it falls back to supervisor.\n",
    "    return \"supervisor\""
   ]
  },
  {
   "cell_type": "code",
   "execution_count": 71,
   "id": "cec3c60b",
   "metadata": {},
   "outputs": [],
   "source": [
    "# Create workflow\n",
    "workflow = StateGraph(SupervisorState)\n",
    "\n",
    "# Add nodes\n",
    "workflow.add_node(\"supervisor\", supervisor_agent)\n",
    "workflow.add_node(\"researcher\", researcher_agent)\n",
    "workflow.add_node(\"analyst\", analyst_agent)\n",
    "workflow.add_node(\"writer\", writer_agent)\n",
    "\n",
    "# Set entry point\n",
    "workflow.set_entry_point(\"supervisor\")\n",
    "\n",
    "# Add routing\n",
    "for node in [\"supervisor\", \"researcher\", \"analyst\", \"writer\"]:\n",
    "    workflow.add_conditional_edges(\n",
    "        node,\n",
    "        router,\n",
    "        {\n",
    "            \"supervisor\": \"supervisor\",\n",
    "            \"researcher\": \"researcher\",\n",
    "            \"analyst\": \"analyst\",\n",
    "            \"writer\": \"writer\",\n",
    "            END: END\n",
    "        }\n",
    "    )\n",
    "\n",
    "graph=workflow.compile()"
   ]
  },
  {
   "cell_type": "code",
   "execution_count": 72,
   "id": "c98e7cdf",
   "metadata": {},
   "outputs": [
    {
     "data": {
      "image/png": "[encoded data removed]",
      "text/plain": [
       "<langgraph.graph.state.CompiledStateGraph object at 0x0000027D6F4A7530>"
      ]
     },
     "execution_count": 72,
     "metadata": {},
     "output_type": "execute_result"
    }
   ],
   "source": [
    "graph"
   ]
  },
  {
   "cell_type": "code",
   "execution_count": 73,
   "id": "1e3ce149",
   "metadata": {},
   "outputs": [
    {
     "name": "stdout",
     "output_type": "stream",
     "text": [
      "researcher\n",
      "analyst\n",
      "writer\n"
     ]
    }
   ],
   "source": [
    "response=graph.invoke(HumanMessage(content=\"What are the benefits and risks of AI in healthcare?\"))\n"
   ]
  },
  {
   "cell_type": "code",
   "execution_count": 74,
   "id": "ac63a363",
   "metadata": {},
   "outputs": [
    {
     "data": {
      "text/plain": [
       "'\\n📄 FINAL REPORT\\n==================================================\\nGenerated: 2025-09-18 23:44\\nTopic: 📊 Analyst: I\\'ve completed the analysis.\\n\\nTop insights:\\nIt appears there\\'s no specific task or topic to work on. However, I can provide some general insights based on the provided template.\\n\\nSince there\\'s no actual data to analyze, I\\'ll create a hypothetical scenario to demonstrate how I would approach the task. Let\\'s assume the topic is \"The Impact of Artificial Intelligence on the Job Market.\"\\n\\n**Hypothetical Research Data:**\\n\\n* Key Facts and Backgro...\\n==================================================\\n\\n**Executive Report: The Impact of Artificial Intelligence on the Job Market**\\n\\n**Executive Summary**\\n\\nThis report provides an analysis of the impact of artificial intelligence (AI) on the job market. Based on hypothetical research data, we have identified key trends, statistics, and notable examples that highlight the implications of AI on employment. Our findings suggest that AI is transforming the job market, leading to both positive and negative consequences. We recommend that businesses and policymakers take proactive steps to mitigate the negative effects and harness the benefits of AI.\\n\\n**Key Findings**\\n\\n1. **Job Displacement**: Our research indicates that AI is likely to displace certain jobs, particularly those that involve routine, repetitive, or predictable tasks.\\n2. **New Job Creation**: However, AI is also expected to create new job opportunities in fields such as AI development, deployment, and maintenance.\\n3. **Skills Gap**: The increasing use of AI is creating a skills gap, as workers need to acquire new skills to remain employable in an AI-driven job market.\\n4. **Industry Disruption**: AI is disrupting various industries, including customer service, finance, and healthcare, leading to changes in business models and job roles.\\n\\n**Analysis & Insights**\\n\\nOur analysis suggests that the impact of AI on the job market is multifaceted and complex. On one hand, AI is automating many tasks, leading to increased productivity and efficiency. On the other hand, it is also displacing jobs and creating a skills gap. To mitigate the negative effects, businesses and policymakers must invest in education and training programs that equip workers with the skills needed to thrive in an AI-driven job market.\\n\\n**Recommendations**\\n\\n1. **Upskilling and Reskilling**: Businesses and policymakers should invest in education and training programs that help workers develop the skills needed to work with AI.\\n2. **Emphasis on Human Skills**: There should be an emphasis on developing human skills, such as creativity, critical thinking, and emotional intelligence, which are less likely to be automated.\\n3. **Social Safety Nets**: Governments should establish social safety nets to support workers who lose their jobs due to AI displacement.\\n4. **Encouraging AI Adoption**: Businesses should encourage the adoption of AI to create new job opportunities and drive innovation.\\n\\n**Conclusion**\\n\\nIn conclusion, the impact of AI on the job market is significant and far-reaching. While AI is likely to displace certain jobs, it is also expected to create new job opportunities and drive innovation. To mitigate the negative effects, businesses and policymakers must invest in education and training programs, emphasize human skills, and establish social safety nets. By taking proactive steps, we can harness the benefits of AI and create a more inclusive and equitable job market.\\n\\n==================================================\\nReport compiled by Multi-Agent AI System powered by Groq\\n'"
      ]
     },
     "execution_count": 74,
     "metadata": {},
     "output_type": "execute_result"
    }
   ],
   "source": [
    "response['final_report']\n"
   ]
  },
  {
   "cell_type": "markdown",
   "id": "bc8ba001",
   "metadata": {},
   "source": [
    "'\\n📄 FINAL REPORT\\n==================================================\\nGenerated: 2025-09-18 23:44\\nTopic: 📊 Analyst: I\\'ve completed the analysis.\\n\\nTop insights:\\nIt appears there\\'s no specific task or topic to work on. However, I can provide some general insights based on the provided template.\\n\\nSince there\\'s no actual data to analyze, I\\'ll create a hypothetical scenario to demonstrate how I would approach the task. Let\\'s assume the topic is \"The Impact of Artificial Intelligence on the Job Market.\"\\n\\n**Hypothetical Research Data:**\\n\\n* Key Facts and Backgro...\\n==================================================\\n\\n**Executive Report: The Impact of Artificial Intelligence on the Job Market**\\n\\n**Executive Summary**\\n\\nThis report provides an analysis of the impact of artificial intelligence (AI) on the job market. Based on hypothetical research data, we have identified key trends, statistics, and notable examples that highlight the implications of AI on employment. Our findings suggest that AI is transforming the job market, leading to both positive and negative consequences. We recommend that businesses and policymakers take proactive steps to mitigate the negative effects and harness the benefits of AI.\\n\\n**Key Findings**\\n\\n1. **Job Displacement**: Our research indicates that AI is likely to displace certain jobs, particularly those that involve routine, repetitive, or predictable tasks.\\n2. **New Job Creation**: However, AI is also expected to create new job opportunities in fields such as AI development, deployment, and maintenance.\\n3. **Skills Gap**: The increasing use of AI is creating a skills gap, as workers need to acquire new skills to remain employable in an AI-driven job market.\\n4. **Industry Disruption**: AI is disrupting various industries, including customer service, finance, and healthcare, leading to changes in business models and job roles.\\n\\n**Analysis & Insights**\\n\\nOur analysis suggests that the impact of AI on the job market is multifaceted and complex. On one hand, AI is automating many tasks, leading to increased productivity and efficiency. On the other hand, it is also displacing jobs and creating a skills gap. To mitigate the negative effects, businesses and policymakers must invest in education and training programs that equip workers with the skills needed to thrive in an AI-driven job market.\\n\\n**Recommendations**\\n\\n1. **Upskilling and Reskilling**: Businesses and policymakers should invest in education and training programs that help workers develop the skills needed to work with AI.\\n2. **Emphasis on Human Skills**: There should be an emphasis on developing human skills, such as creativity, critical thinking, and emotional intelligence, which are less likely to be automated.\\n3. **Social Safety Nets**: Governments should establish social safety nets to support workers who lose their jobs due to AI displacement.\\n4. **Encouraging AI Adoption**: Businesses should encourage the adoption of AI to create new job opportunities and drive innovation.\\n\\n**Conclusion**\\n\\nIn conclusion, the impact of AI on the job market is significant and far-reaching. While AI is likely to displace certain jobs, it is also expected to create new job opportunities and drive innovation. To mitigate the negative effects, businesses and policymakers must invest in education and training programs, emphasize human skills, and establish social safety nets. By taking proactive steps, we can harness the benefits of AI and create a more inclusive and equitable job market.\\n\\n==================================================\\nReport compiled by Multi-Agent AI System powered by Groq\\n'"
   ]
  },
  {
   "cell_type": "code",
   "execution_count": 75,
   "id": "926fe44d",
   "metadata": {},
   "outputs": [
    {
     "data": {
      "text/plain": [
       "{'messages': [AIMessage(content=\"📋 Supervisor: Let's start with research. Assigning to Researcher...\", additional_kwargs={}, response_metadata={}, id='c9a6337f-47bc-4231-9f69-1a71add56812'),\n",
       "  AIMessage(content=\"🔍 Researcher: I've completed the research on 'No task'.\\n\\nKey findings:\\nIt appears there is no task or topic provided. \\n\\nHowever, I can provide a general template for the information you requested:\\n\\n**Template for Comprehensive Information**\\n\\n1. **Key Facts and Background**\\n   - Brief overview of the topic\\n   - Historical context or development\\n\\n2. **Current Trends or Developments**\\n   - Recent advancements or breakthroughs\\n   - Emerging technologies or innovations\\n   - Shifts in industry or market trends\\n\\n3. **Important Statistics or Data Points**\\n   - Relevant num...\", additional_kwargs={}, response_metadata={}, id='57582473-b648-4d3c-83cb-ee3e75a3cfe9'),\n",
       "  AIMessage(content='📋 Supervisor: Research done. Time for analysis. Assigning to Analyst...', additional_kwargs={}, response_metadata={}, id='bdd0ddf3-bf96-4dc4-b5f3-a0bde598e090'),\n",
       "  AIMessage(content='📊 Analyst: I\\'ve completed the analysis.\\n\\nTop insights:\\nIt appears there\\'s no specific task or topic to work on. However, I can provide some general insights based on the provided template.\\n\\nSince there\\'s no actual data to analyze, I\\'ll create a hypothetical scenario to demonstrate how I would approach the task. Let\\'s assume the topic is \"The Impact of Artificial Intelligence on the Job Market.\"\\n\\n**Hypothetical Research Data:**\\n\\n* Key Facts and Backgro...', additional_kwargs={}, response_metadata={}, id='0143b9c0-a3d2-425d-aee9-62652bda09e4'),\n",
       "  AIMessage(content=\"📋 Supervisor: Analysis complete. Let's create the report. Assigning to Writer...\", additional_kwargs={}, response_metadata={}, id='ef9cc988-f76c-4edf-ba3f-9ba4a12985f8'),\n",
       "  AIMessage(content='✍️ Writer: Report complete! See below for the full document.', additional_kwargs={}, response_metadata={}, id='c892ad65-0bd9-4908-ba40-bef85aad3127')],\n",
       " 'next_agent': 'supervisor',\n",
       " 'research_data': \"It appears there is no task or topic provided. \\n\\nHowever, I can provide a general template for the information you requested:\\n\\n**Template for Comprehensive Information**\\n\\n1. **Key Facts and Background**\\n   - Brief overview of the topic\\n   - Historical context or development\\n\\n2. **Current Trends or Developments**\\n   - Recent advancements or breakthroughs\\n   - Emerging technologies or innovations\\n   - Shifts in industry or market trends\\n\\n3. **Important Statistics or Data Points**\\n   - Relevant numbers or metrics\\n   - Trends or patterns in the data\\n   - Comparative analysis or benchmarks\\n\\n4. **Notable Examples or Case Studies**\\n   - Real-world applications or implementations\\n   - Success stories or lessons learned\\n   - Best practices or recommendations\\n\\nTo provide a comprehensive response, please provide a specific topic or task for me to research and provide information on. I'll be happy to assist you.\",\n",
       " 'analysis': 'It appears there\\'s no specific task or topic to work on. However, I can provide some general insights based on the provided template.\\n\\nSince there\\'s no actual data to analyze, I\\'ll create a hypothetical scenario to demonstrate how I would approach the task. Let\\'s assume the topic is \"The Impact of Artificial Intelligence on the Job Market.\"\\n\\n**Hypothetical Research Data:**\\n\\n* Key Facts and Background:\\n  - Artificial intelligence (AI) has been rapidly developing over the past decade, with applications in various industries, including healthcare, finance, and customer service.\\n  - Historically, AI was primarily used for automating routine tasks, but its capabilities have expanded to include complex decision-making and creative tasks.\\n\\n* Current Trends or Developments:\\n  - Recent advancements in AI, such as natural language processing and machine learning, have led to the development of more sophisticated AI systems.\\n  - Emerging technologies, such as quantum computing, are expected to further accelerate AI development.\\n  - Shifts in industry and market trends, such as the growing demand for automation and efficiency, have led to increased adoption of AI.\\n\\n* Important Statistics or Data Points:\\n  - 40% of jobs in the United States are at high risk of being automated by 2030 (Source: McKinsey).\\n  - The global AI market is expected to reach $190 billion by 2025 (Source: MarketsandMarkets).\\n  - 60% of executives believe that AI will have a significant impact on their organization\\'s future success (Source: PwC).\\n\\n* Notable Examples or Case Studies:\\n  - Companies like Amazon and Google have successfully implemented AI-powered chatbots to improve customer service.\\n  - The AI-powered healthcare platform, DeepMind Health, has improved cancer diagnosis accuracy and streamlined patient care.\\n\\nNow, let\\'s apply the template to this hypothetical scenario:\\n\\n**Key Insights and Patterns:**\\n\\n1. AI has the potential to significantly impact the job market, with 40% of jobs at high risk of being automated.\\n2. The global AI market is expected to grow rapidly, with a potential impact on various industries.\\n3. Companies that adopt AI are likely to see improvements in efficiency and customer satisfaction.\\n\\n**Strategic Implications:**\\n\\n1. Organizations should invest in AI development and adoption to remain competitive.\\n2. Employees should be trained to work alongside AI systems to maximize their skills and value.\\n3. Governments and policymakers should consider implementing policies to mitigate the impact of AI on employment.\\n\\n**Risks and Opportunities:**\\n\\n1. Job displacement and unemployment due to AI automation.\\n2. Opportunities for innovation and growth in industries that adopt AI.\\n3. Potential biases and errors in AI decision-making that may lead to unfair outcomes.\\n\\n**Recommendations:**\\n\\n1. Invest in AI development and adoption to improve efficiency and competitiveness.\\n2. Develop education and training programs to prepare employees for AI-driven jobs.\\n3. Implement policies to mitigate the impact of AI on employment, such as retraining and upskilling programs.\\n\\nPlease let me know if you\\'d like me to work on a specific topic or task. I\\'ll be happy to assist you.',\n",
       " 'final_report': '\\n📄 FINAL REPORT\\n==================================================\\nGenerated: 2025-09-18 23:44\\nTopic: 📊 Analyst: I\\'ve completed the analysis.\\n\\nTop insights:\\nIt appears there\\'s no specific task or topic to work on. However, I can provide some general insights based on the provided template.\\n\\nSince there\\'s no actual data to analyze, I\\'ll create a hypothetical scenario to demonstrate how I would approach the task. Let\\'s assume the topic is \"The Impact of Artificial Intelligence on the Job Market.\"\\n\\n**Hypothetical Research Data:**\\n\\n* Key Facts and Backgro...\\n==================================================\\n\\n**Executive Report: The Impact of Artificial Intelligence on the Job Market**\\n\\n**Executive Summary**\\n\\nThis report provides an analysis of the impact of artificial intelligence (AI) on the job market. Based on hypothetical research data, we have identified key trends, statistics, and notable examples that highlight the implications of AI on employment. Our findings suggest that AI is transforming the job market, leading to both positive and negative consequences. We recommend that businesses and policymakers take proactive steps to mitigate the negative effects and harness the benefits of AI.\\n\\n**Key Findings**\\n\\n1. **Job Displacement**: Our research indicates that AI is likely to displace certain jobs, particularly those that involve routine, repetitive, or predictable tasks.\\n2. **New Job Creation**: However, AI is also expected to create new job opportunities in fields such as AI development, deployment, and maintenance.\\n3. **Skills Gap**: The increasing use of AI is creating a skills gap, as workers need to acquire new skills to remain employable in an AI-driven job market.\\n4. **Industry Disruption**: AI is disrupting various industries, including customer service, finance, and healthcare, leading to changes in business models and job roles.\\n\\n**Analysis & Insights**\\n\\nOur analysis suggests that the impact of AI on the job market is multifaceted and complex. On one hand, AI is automating many tasks, leading to increased productivity and efficiency. On the other hand, it is also displacing jobs and creating a skills gap. To mitigate the negative effects, businesses and policymakers must invest in education and training programs that equip workers with the skills needed to thrive in an AI-driven job market.\\n\\n**Recommendations**\\n\\n1. **Upskilling and Reskilling**: Businesses and policymakers should invest in education and training programs that help workers develop the skills needed to work with AI.\\n2. **Emphasis on Human Skills**: There should be an emphasis on developing human skills, such as creativity, critical thinking, and emotional intelligence, which are less likely to be automated.\\n3. **Social Safety Nets**: Governments should establish social safety nets to support workers who lose their jobs due to AI displacement.\\n4. **Encouraging AI Adoption**: Businesses should encourage the adoption of AI to create new job opportunities and drive innovation.\\n\\n**Conclusion**\\n\\nIn conclusion, the impact of AI on the job market is significant and far-reaching. While AI is likely to displace certain jobs, it is also expected to create new job opportunities and drive innovation. To mitigate the negative effects, businesses and policymakers must invest in education and training programs, emphasize human skills, and establish social safety nets. By taking proactive steps, we can harness the benefits of AI and create a more inclusive and equitable job market.\\n\\n==================================================\\nReport compiled by Multi-Agent AI System powered by Groq\\n',\n",
       " 'task_complete': True,\n",
       " 'current_task': '📊 Analyst: I\\'ve completed the analysis.\\n\\nTop insights:\\nIt appears there\\'s no specific task or topic to work on. However, I can provide some general insights based on the provided template.\\n\\nSince there\\'s no actual data to analyze, I\\'ll create a hypothetical scenario to demonstrate how I would approach the task. Let\\'s assume the topic is \"The Impact of Artificial Intelligence on the Job Market.\"\\n\\n**Hypothetical Research Data:**\\n\\n* Key Facts and Backgro...'}"
      ]
     },
     "execution_count": 75,
     "metadata": {},
     "output_type": "execute_result"
    }
   ],
   "source": [
    "response"
   ]
  },
  {
   "cell_type": "code",
   "execution_count": null,
   "id": "67beaeab",
   "metadata": {},
   "outputs": [],
   "source": []
  }
 ],
 "metadata": {
  "kernelspec": {
   "display_name": "Chatbot using Langraph and MCP",
   "language": "python",
   "name": "python3"
  },
  "language_info": {
   "codemirror_mode": {
    "name": "ipython",
    "version": 3
   },
   "file_extension": ".py",
   "mimetype": "text/x-python",
   "name": "python",
   "nbconvert_exporter": "python",
   "pygments_lexer": "ipython3",
   "version": "3.13.7"
  }
 },
 "nbformat": 4,
 "nbformat_minor": 5
}
