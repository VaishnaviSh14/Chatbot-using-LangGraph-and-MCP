{
 "cells": [
  {
   "cell_type": "markdown",
   "id": "d5e16990",
   "metadata": {},
   "source": [
    "# Building a basic chatbot with langraph (GRAPH API)"
   ]
  },
  {
   "cell_type": "code",
   "execution_count": 40,
   "id": "49696682",
   "metadata": {},
   "outputs": [],
   "source": [
    "from typing import Annotated\n",
    "from typing_extensions import TypedDict\n",
    "\n",
    "from langgraph.graph import StateGraph,START,END\n",
    "from langgraph.graph.message import add_messages\n"
   ]
  },
  {
   "cell_type": "code",
   "execution_count": 41,
   "id": "cadb84e6",
   "metadata": {},
   "outputs": [],
   "source": [
    "class State(TypedDict):\n",
    "    messages:Annotated[list,add_messages]\n",
    "\n",
    "graph_builder=StateGraph(State)\n"
   ]
  },
  {
   "cell_type": "code",
   "execution_count": 42,
   "id": "47b426c8",
   "metadata": {},
   "outputs": [
    {
     "data": {
      "text/plain": [
       "<langgraph.graph.state.StateGraph at 0x205f84079b0>"
      ]
     },
     "execution_count": 42,
     "metadata": {},
     "output_type": "execute_result"
    }
   ],
   "source": [
    "graph_builder"
   ]
  },
  {
   "cell_type": "code",
   "execution_count": 43,
   "id": "38a31a90",
   "metadata": {},
   "outputs": [
    {
     "data": {
      "text/plain": [
       "True"
      ]
     },
     "execution_count": 43,
     "metadata": {},
     "output_type": "execute_result"
    }
   ],
   "source": [
    "import os\n",
    "from dotenv import load_dotenv\n",
    "\n",
    "load_dotenv()"
   ]
  },
  {
   "cell_type": "code",
   "execution_count": 44,
   "id": "92d3de63",
   "metadata": {},
   "outputs": [],
   "source": [
    "from langchain_groq import ChatGroq\n",
    "\n",
    "llm = ChatGroq(model=\"llama-3.1-8b-instant\")"
   ]
  },
  {
   "cell_type": "code",
   "execution_count": 45,
   "id": "b7b2b95d",
   "metadata": {},
   "outputs": [
    {
     "data": {
      "text/plain": [
       "ChatGroq(client=<groq.resources.chat.completions.Completions object at 0x00000205FAFE0410>, async_client=<groq.resources.chat.completions.AsyncCompletions object at 0x00000205FAFE1090>, model_name='llama-3.1-8b-instant', model_kwargs={}, groq_api_key=SecretStr('**********'))"
      ]
     },
     "execution_count": 45,
     "metadata": {},
     "output_type": "execute_result"
    }
   ],
   "source": [
    "llm"
   ]
  },
  {
   "cell_type": "code",
   "execution_count": 46,
   "id": "ec371461",
   "metadata": {},
   "outputs": [],
   "source": [
    "#Node functionality\n",
    "def chatbot(state:State):\n",
    "    return {\"messages\":[llm.invoke(state[\"messages\"])]}"
   ]
  },
  {
   "cell_type": "markdown",
   "id": "b9a6f8da",
   "metadata": {},
   "source": [
    "# START [Edge] ---------> Chatbot [NODE] --------> END [Edge]"
   ]
  },
  {
   "cell_type": "code",
   "execution_count": 47,
   "id": "6361160e",
   "metadata": {},
   "outputs": [],
   "source": [
    "graph_builder=StateGraph(State)\n",
    "\n",
    "#Adding nodes\n",
    "graph_builder.add_node(\"llmchatbot\",chatbot) #First paramter it is just name and second parameter we pass our node we created above\n",
    "\n",
    "#Adding edges\n",
    "graph_builder.add_edge(START,\"llmchatbot\") #From start it will go to llmchatbot\n",
    "graph_builder.add_edge(\"llmchatbot\",END)   # from llmchatbpt it will go to end\n",
    "\n",
    "#Compile the graph\n",
    "graph = graph_builder.compile()"
   ]
  },
  {
   "cell_type": "code",
   "execution_count": 48,
   "id": "9c6d36a6",
   "metadata": {},
   "outputs": [
    {
     "data": {
      "image/png": "[encoded data removed]",
      "text/plain": [
       "<IPython.core.display.Image object>"
      ]
     },
     "metadata": {},
     "output_type": "display_data"
    }
   ],
   "source": [
    "## Visualize the graph\n",
    "from IPython.display import Image,display\n",
    "\n",
    "try:\n",
    "    display(Image(graph.get_graph().draw_mermaid_png()))\n",
    "except Exception as e:\n",
    "    pass"
   ]
  },
  {
   "cell_type": "code",
   "execution_count": 49,
   "id": "3b0e74db",
   "metadata": {},
   "outputs": [],
   "source": [
    "response=graph.invoke({\"messages\":\"Hi\"})"
   ]
  },
  {
   "cell_type": "code",
   "execution_count": 50,
   "id": "f0d6e354",
   "metadata": {},
   "outputs": [
    {
     "data": {
      "text/plain": [
       "'How can I assist you today?'"
      ]
     },
     "execution_count": 50,
     "metadata": {},
     "output_type": "execute_result"
    }
   ],
   "source": [
    "response[\"messages\"][-1].content"
   ]
  },
  {
   "cell_type": "markdown",
   "id": "a0b50b9a",
   "metadata": {},
   "source": [
    "# CHATBOT WITH TOOL"
   ]
  },
  {
   "cell_type": "code",
   "execution_count": 51,
   "id": "f43a1a9a",
   "metadata": {},
   "outputs": [
    {
     "data": {
      "text/plain": [
       "{'query': 'What is Langgraph',\n",
       " 'follow_up_questions': None,\n",
       " 'answer': None,\n",
       " 'images': [],\n",
       " 'results': [{'url': 'https://www.datacamp.com/tutorial/langgraph-tutorial',\n",
       "   'title': 'LangGraph Tutorial: What Is LangGraph and How to Use It?',\n",
       "   'content': 'LangGraph is a library within the LangChain ecosystem that provides a framework for defining, coordinating, and executing multiple LLM agents (or chains) in a structured and efficient manner. By managing the flow of data and the sequence of operations, LangGraph allows developers to focus on the high-level logic of their applications rather than the intricacies of agent coordination. Whether you need a chatbot that can handle various types of user requests or a multi-agent system that performs complex tasks, LangGraph provides the tools to build exactly what you need. LangGraph significantly simplifies the development of complex LLM applications by providing a structured framework for managing state and coordinating agent interactions.',\n",
       "   'score': 0.9501204,\n",
       "   'raw_content': None},\n",
       "  {'url': 'https://www.geeksforgeeks.org/machine-learning/what-is-langgraph/',\n",
       "   'title': 'What is LangGraph? - GeeksforGeeks',\n",
       "   'content': 'LangGraph is an open-source framework built by LangChain that streamlines the creation and management of AI agent workflows.',\n",
       "   'score': 0.94608605,\n",
       "   'raw_content': None}],\n",
       " 'response_time': 1.14,\n",
       " 'request_id': '28b0935d-5cc4-455f-8437-14ca227d4c4d'}"
      ]
     },
     "execution_count": 51,
     "metadata": {},
     "output_type": "execute_result"
    }
   ],
   "source": [
    "from langchain_tavily import TavilySearch\n",
    "tool = TavilySearch(max_results=2)\n",
    "\n",
    "tool.invoke(\"What is Langgraph\")"
   ]
  },
  {
   "cell_type": "code",
   "execution_count": 52,
   "id": "960e1c05",
   "metadata": {},
   "outputs": [],
   "source": [
    "# Custom Function\n",
    "def multiply(a:int, b:int)->int:\n",
    "    \"\"\"Multiply a and b\n",
    "    Args:\n",
    "        a (int): first int\n",
    "        b (int): second int\n",
    "\n",
    "    Returns:\n",
    "        int: output int\n",
    "    \"\"\"\n",
    "    return a * b"
   ]
  },
  {
   "cell_type": "code",
   "execution_count": 53,
   "id": "92901376",
   "metadata": {},
   "outputs": [],
   "source": [
    "tools=[tool,multiply]"
   ]
  },
  {
   "cell_type": "code",
   "execution_count": 54,
   "id": "cf061acf",
   "metadata": {},
   "outputs": [],
   "source": [
    "llm_with_tools=llm.bind_tools(tools)"
   ]
  },
  {
   "cell_type": "code",
   "execution_count": 55,
   "id": "5ff63ea8",
   "metadata": {},
   "outputs": [
    {
     "data": {
      "text/plain": [
       "RunnableBinding(bound=ChatGroq(client=<groq.resources.chat.completions.Completions object at 0x00000205FAFE0410>, async_client=<groq.resources.chat.completions.AsyncCompletions object at 0x00000205FAFE1090>, model_name='llama-3.1-8b-instant', model_kwargs={}, groq_api_key=SecretStr('**********')), kwargs={'tools': [{'type': 'function', 'function': {'name': 'tavily_search', 'description': 'A search engine optimized for comprehensive, accurate, and trusted results. Useful for when you need to answer questions about current events. It not only retrieves URLs and snippets, but offers advanced search depths, domain management, time range filters, and image search, this tool delivers real-time, accurate, and citation-backed results.Input should be a search query.', 'parameters': {'properties': {'query': {'description': 'Search query to look up', 'type': 'string'}, 'include_domains': {'anyOf': [{'items': {'type': 'string'}, 'type': 'array'}, {'type': 'null'}], 'default': [], 'description': 'A list of domains to restrict search results to.\\n\\n        Use this parameter when:\\n        1. The user explicitly requests information from specific websites (e.g., \"Find climate data from nasa.gov\")\\n        2. The user mentions an organization or company without specifying the domain (e.g., \"Find information about iPhones from Apple\")\\n\\n        In both cases, you should determine the appropriate domains (e.g., [\"nasa.gov\"] or [\"apple.com\"]) and set this parameter.\\n\\n        Results will ONLY come from the specified domains - no other sources will be included.\\n        Default is None (no domain restriction).\\n        '}, 'exclude_domains': {'anyOf': [{'items': {'type': 'string'}, 'type': 'array'}, {'type': 'null'}], 'default': [], 'description': 'A list of domains to exclude from search results.\\n\\n        Use this parameter when:\\n        1. The user explicitly requests to avoid certain websites (e.g., \"Find information about climate change but not from twitter.com\")\\n        2. The user mentions not wanting results from specific organizations without naming the domain (e.g., \"Find phone reviews but nothing from Apple\")\\n\\n        In both cases, you should determine the appropriate domains to exclude (e.g., [\"twitter.com\"] or [\"apple.com\"]) and set this parameter.\\n\\n        Results will filter out all content from the specified domains.\\n        Default is None (no domain exclusion).\\n        '}, 'search_depth': {'anyOf': [{'enum': ['basic', 'advanced'], 'type': 'string'}, {'type': 'null'}], 'default': 'basic', 'description': 'Controls search thoroughness and result comprehensiveness.\\n    \\n        Use \"basic\" for simple queries requiring quick, straightforward answers.\\n        \\n        Use \"advanced\" (default) for complex queries, specialized topics, \\n        rare information, or when in-depth analysis is needed.\\n        '}, 'include_images': {'anyOf': [{'type': 'boolean'}, {'type': 'null'}], 'default': False, 'description': 'Determines if the search returns relevant images along with text results.\\n   \\n        Set to True when the user explicitly requests visuals or when images would \\n        significantly enhance understanding (e.g., \"Show me what black holes look like,\" \\n        \"Find pictures of Renaissance art\").\\n        \\n        Leave as False (default) for most informational queries where text is sufficient.\\n        '}, 'time_range': {'anyOf': [{'enum': ['day', 'week', 'month', 'year'], 'type': 'string'}, {'type': 'null'}], 'default': None, 'description': 'Limits results to content published within a specific timeframe.\\n        \\n        ONLY set this when the user explicitly mentions a time period \\n        (e.g., \"latest AI news,\" \"articles from last week\").\\n        \\n        For less popular or niche topics, use broader time ranges \\n        (\"month\" or \"year\") to ensure sufficient relevant results.\\n   \\n        Options: \"day\" (24h), \"week\" (7d), \"month\" (30d), \"year\" (365d).\\n        \\n        Default is None.\\n        '}, 'topic': {'anyOf': [{'enum': ['general', 'news', 'finance'], 'type': 'string'}, {'type': 'null'}], 'default': 'general', 'description': 'Specifies search category for optimized results.\\n   \\n        Use \"general\" (default) for most queries, INCLUDING those with terms like \\n        \"latest,\" \"newest,\" or \"recent\" when referring to general information.\\n\\n        Use \"finance\" for markets, investments, economic data, or financial news.\\n\\n        Use \"news\" ONLY for politics, sports, or major current events covered by \\n        mainstream media - NOT simply because a query asks for \"new\" information.\\n        '}, 'include_favicon': {'anyOf': [{'type': 'boolean'}, {'type': 'null'}], 'default': False, 'description': \"Determines whether to include favicon URLs for each search result.\\n        \\n        When enabled, each search result will include the website's favicon URL,\\n        which can be useful for:\\n        - Building rich UI interfaces with visual website indicators\\n        - Providing visual cues about the source's credibility or brand\\n        - Creating bookmark-like displays with recognizable site icons\\n        \\n        Set to True when creating user interfaces that benefit from visual branding\\n        or when favicon information enhances the user experience.\\n        \\n        Default is False to minimize response size and API usage.\\n        \"}, 'start_date': {'anyOf': [{'type': 'string'}, {'type': 'null'}], 'default': None, 'description': 'Filters search results to include only content published on or after this date.\\n        \\n        Use this parameter when you need to:\\n        - Find recent developments or updates on a topic\\n        - Exclude outdated information from search results\\n        - Focus on content within a specific timeframe\\n        - Combine with end_date to create a custom date range\\n        \\n        Format must be YYYY-MM-DD (e.g., \"2024-01-15\" for January 15, 2024).\\n        \\n        Examples:\\n        - \"2024-01-01\" - Results from January 1, 2024 onwards\\n        - \"2023-12-25\" - Results from December 25, 2023 onwards\\n        \\n        When combined with end_date, creates a precise date range filter.\\n        \\n        Default is None (no start date restriction).\\n        '}, 'end_date': {'anyOf': [{'type': 'string'}, {'type': 'null'}], 'default': None, 'description': 'Filters search results to include only content published on or before this date.\\n        \\n        Use this parameter when you need to:\\n        - Exclude content published after a certain date\\n        - Study historical information or past events\\n        - Research how topics were covered during specific time periods\\n        - Combine with start_date to create a custom date range\\n        \\n        Format must be YYYY-MM-DD (e.g., \"2024-03-31\" for March 31, 2024).\\n        \\n        Examples:\\n        - \"2024-03-31\" - Results up to and including March 31, 2024\\n        - \"2023-12-31\" - Results up to and including December 31, 2023\\n        \\n        When combined with start_date, creates a precise date range filter.\\n        For example: start_date=\"2024-01-01\", end_date=\"2024-03-31\" \\n        returns results from Q1 2024 only.\\n        \\n        Default is None (no end date restriction).\\n        '}}, 'required': ['query'], 'type': 'object'}}}, {'type': 'function', 'function': {'name': 'multiply', 'description': 'Multiply a and b\\nArgs:\\n    a (int): first int\\n    b (int): second int', 'parameters': {'properties': {'a': {'type': 'integer'}, 'b': {'type': 'integer'}}, 'required': ['a', 'b'], 'type': 'object'}}}]}, config={}, config_factories=[])"
      ]
     },
     "execution_count": 55,
     "metadata": {},
     "output_type": "execute_result"
    }
   ],
   "source": [
    "llm_with_tools #it contains binded tools(travily and custom mul)"
   ]
  },
  {
   "cell_type": "code",
   "execution_count": 56,
   "id": "bdd8c782",
   "metadata": {},
   "outputs": [
    {
     "data": {
      "image/png": "[encoded data removed]",
      "text/plain": [
       "<IPython.core.display.Image object>"
      ]
     },
     "metadata": {},
     "output_type": "display_data"
    }
   ],
   "source": [
    "## StateGraph\n",
    "from langgraph.graph import StateGraph,START,END\n",
    "from langgraph.prebuilt import ToolNode\n",
    "from langgraph.prebuilt import tools_condition\n",
    "\n",
    "## Node definition\n",
    "def tool_calling_llm(state:State):\n",
    "    return {\"messages\":[llm_with_tools.invoke(state[\"messages\"])]}\n",
    "\n",
    "## Graph\n",
    "builder=StateGraph(State)\n",
    "builder.add_node(\"tool_calling_llm\",tool_calling_llm)\n",
    "builder.add_node(\"tools\",ToolNode(tools))\n",
    "\n",
    "## Add edges\n",
    "builder.add_edge(START, \"tool_calling_llm\")\n",
    "builder.add_conditional_edges(\n",
    "    \"tool_calling_llm\",\n",
    "    #if the latest message (result) from assistant is a tool call -> tool_condition routes to tools\n",
    "    #if the latest message (result) from assistant is a tool call -> tool_condition routes to END\n",
    "    tools_condition\n",
    ")\n",
    "builder.add_edge(\"tools\", \"tool_calling_llm\")\n",
    "\n",
    "#Compile the graph\n",
    "graph=builder.compile()\n",
    "\n",
    "display(Image(graph.get_graph().draw_mermaid_png()))\n",
    "\n"
   ]
  },
  {
   "cell_type": "code",
   "execution_count": 57,
   "id": "808ce8f2",
   "metadata": {},
   "outputs": [],
   "source": [
    "response=graph.invoke({\"messages\":\"What is the recent ai news\"})"
   ]
  },
  {
   "cell_type": "code",
   "execution_count": 58,
   "id": "c717acae",
   "metadata": {},
   "outputs": [
    {
     "data": {
      "text/plain": [
       "{'messages': [HumanMessage(content='What is the recent ai news', additional_kwargs={}, response_metadata={}, id='7061c669-c9e8-4b60-9486-7c8e6937ef00'),\n",
       "  AIMessage(content='', additional_kwargs={'tool_calls': [{'id': 'kdgjhvb4b', 'function': {'arguments': '{\"query\":\"Recent AI news\",\"start_date\":\"2023-12-25\",\"time_range\":\"day\",\"topic\":\"news\"}', 'name': 'tavily_search'}, 'type': 'function'}, {'id': 'b8g1s4kpc', 'function': {'arguments': '{\"query\":\"Recent AI news\",\"start_date\":\"2023-12-25\",\"time_range\":\"day\",\"topic\":\"news\"}', 'name': 'tavily_search'}, 'type': 'function'}, {'id': 'kvc4d9hxv', 'function': {'arguments': '{\"query\":\"Recent AI news\",\"start_date\":\"2023-12-25\",\"time_range\":\"day\",\"topic\":\"news\"}', 'name': 'tavily_search'}, 'type': 'function'}, {'id': 'z3a5gfgjc', 'function': {'arguments': '{\"query\":\"Recent AI news\",\"start_date\":\"2023-12-25\",\"time_range\":\"day\",\"topic\":\"news\"}', 'name': 'tavily_search'}, 'type': 'function'}, {'id': 'ez0tb2zjr', 'function': {'arguments': '{\"query\":\"Recent AI news\",\"start_date\":\"2023-12-25\",\"time_range\":\"day\",\"topic\":\"news\"}', 'name': 'tavily_search'}, 'type': 'function'}, {'id': 's0xcd4230', 'function': {'arguments': '{\"query\":\"Recent AI news\",\"start_date\":\"2023-12-25\",\"time_range\":\"day\",\"topic\":\"news\"}', 'name': 'tavily_search'}, 'type': 'function'}, {'id': 'ccytvav0g', 'function': {'arguments': '{\"query\":\"Recent AI news\",\"start_date\":\"2023-12-25\",\"time_range\":\"day\",\"topic\":\"news\"}', 'name': 'tavily_search'}, 'type': 'function'}]}, response_metadata={'token_usage': {'completion_tokens': 295, 'prompt_tokens': 1882, 'total_tokens': 2177, 'completion_time': 0.327906855, 'prompt_time': 0.114176802, 'queue_time': 0.050620459, 'total_time': 0.442083657}, 'model_name': 'llama-3.1-8b-instant', 'system_fingerprint': 'fp_c54ae48ece', 'service_tier': 'on_demand', 'finish_reason': 'tool_calls', 'logprobs': None}, id='run--0c73c88b-4977-41c4-9fc3-fc81eabc6cc8-0', tool_calls=[{'name': 'tavily_search', 'args': {'query': 'Recent AI news', 'start_date': '2023-12-25', 'time_range': 'day', 'topic': 'news'}, 'id': 'kdgjhvb4b', 'type': 'tool_call'}, {'name': 'tavily_search', 'args': {'query': 'Recent AI news', 'start_date': '2023-12-25', 'time_range': 'day', 'topic': 'news'}, 'id': 'b8g1s4kpc', 'type': 'tool_call'}, {'name': 'tavily_search', 'args': {'query': 'Recent AI news', 'start_date': '2023-12-25', 'time_range': 'day', 'topic': 'news'}, 'id': 'kvc4d9hxv', 'type': 'tool_call'}, {'name': 'tavily_search', 'args': {'query': 'Recent AI news', 'start_date': '2023-12-25', 'time_range': 'day', 'topic': 'news'}, 'id': 'z3a5gfgjc', 'type': 'tool_call'}, {'name': 'tavily_search', 'args': {'query': 'Recent AI news', 'start_date': '2023-12-25', 'time_range': 'day', 'topic': 'news'}, 'id': 'ez0tb2zjr', 'type': 'tool_call'}, {'name': 'tavily_search', 'args': {'query': 'Recent AI news', 'start_date': '2023-12-25', 'time_range': 'day', 'topic': 'news'}, 'id': 's0xcd4230', 'type': 'tool_call'}, {'name': 'tavily_search', 'args': {'query': 'Recent AI news', 'start_date': '2023-12-25', 'time_range': 'day', 'topic': 'news'}, 'id': 'ccytvav0g', 'type': 'tool_call'}], usage_metadata={'input_tokens': 1882, 'output_tokens': 295, 'total_tokens': 2177}),\n",
       "  ToolMessage(content=\"{'error': ValueError('Error 400: When time_range is set, start_date or end_date cannot be set')}\", name='tavily_search', id='adee40c8-3a0c-481f-8074-d9db6ef109b0', tool_call_id='kdgjhvb4b'),\n",
       "  ToolMessage(content=\"{'error': ValueError('Error 400: When time_range is set, start_date or end_date cannot be set')}\", name='tavily_search', id='fcee1e97-44eb-4066-99e6-7973291af3be', tool_call_id='b8g1s4kpc'),\n",
       "  ToolMessage(content=\"{'error': ValueError('Error 400: When time_range is set, start_date or end_date cannot be set')}\", name='tavily_search', id='5ff94e8b-3af4-42ad-8be7-453bb4a70800', tool_call_id='kvc4d9hxv'),\n",
       "  ToolMessage(content=\"{'error': ValueError('Error 400: When time_range is set, start_date or end_date cannot be set')}\", name='tavily_search', id='e7ed2c68-046f-486d-88eb-5ea05f5b805b', tool_call_id='z3a5gfgjc'),\n",
       "  ToolMessage(content=\"{'error': ValueError('Error 400: When time_range is set, start_date or end_date cannot be set')}\", name='tavily_search', id='89542953-42c1-4fbe-bb5d-bb8cd1df1412', tool_call_id='ez0tb2zjr'),\n",
       "  ToolMessage(content=\"{'error': ValueError('Error 400: When time_range is set, start_date or end_date cannot be set')}\", name='tavily_search', id='67a0f5a9-ea44-4e2d-ad63-4aeb5484a714', tool_call_id='s0xcd4230'),\n",
       "  ToolMessage(content=\"{'error': ValueError('Error 400: When time_range is set, start_date or end_date cannot be set')}\", name='tavily_search', id='c2fdc568-f586-4aa5-9113-0e17b7ac66e4', tool_call_id='ccytvav0g'),\n",
       "  AIMessage(content=\"The function call results in an error because when 'time_range' is set, either 'start_date' or 'end_date' should be set, but not both. \\n\\nHere is the corrected function call:\\n\\n\", additional_kwargs={'tool_calls': [{'id': 'xf2zcbqsc', 'function': {'arguments': '{\"query\":\"Recent AI news\",\"time_range\":\"day\",\"topic\":\"news\"}', 'name': 'tavily_search'}, 'type': 'function'}]}, response_metadata={'token_usage': {'completion_tokens': 73, 'prompt_tokens': 2391, 'total_tokens': 2464, 'completion_time': 0.128092633, 'prompt_time': 0.1623185, 'queue_time': 0.05124366, 'total_time': 0.290411133}, 'model_name': 'llama-3.1-8b-instant', 'system_fingerprint': 'fp_8a13dfab2b', 'service_tier': 'on_demand', 'finish_reason': 'tool_calls', 'logprobs': None}, id='run--cd600ca7-1899-4d28-994c-1fc01b925956-0', tool_calls=[{'name': 'tavily_search', 'args': {'query': 'Recent AI news', 'time_range': 'day', 'topic': 'news'}, 'id': 'xf2zcbqsc', 'type': 'tool_call'}], usage_metadata={'input_tokens': 2391, 'output_tokens': 73, 'total_tokens': 2464}),\n",
       "  ToolMessage(content='{\"query\": \"Recent AI news\", \"follow_up_questions\": null, \"answer\": null, \"images\": [], \"results\": [{\"url\": \"https://hitconsultant.net/2025/09/17/the-rise-of-predictive-ai-in-hospitals/\", \"title\": \"71% of Hospitals Now Use Predictive AI, But a Digital Divide Remains - HIT Consultant\", \"score\": 1.0, \"published_date\": \"Wed, 17 Sep 2025 18:50:22 GMT\", \"content\": \"– A recent data brief from the American Hospital Association (AHA) and the ASTP/ONC examines the trends in predictive AI adoption, evaluation, and governance using data from 2023 and 2024. Predictive AI adoption is on the rise, with 71% of hospitals reporting its use in 2024, a notable increase from 66% in 2023. In 2024, 80% of hospitals used predictive AI from their electronic health record (EHR) developer, while 52% used third-party developed AI and 50% used self-developed AI. Three-quarters of hospitals reported that multiple entities were accountable for evaluating predictive AI in 2024, with a specific committee or task force being the most common entity cited (66%). For more information about the ASTP/ONC data brief, visit **Hospital Trends in the Use, Evaluation, and Governance of Predictive AI, 2023-2024**\", \"raw_content\": null}, {\"url\": \"https://fashionunited.uk/news/business/technology-a-new-strategic-priority-for-luxury-houses/2025091783969\", \"title\": \"Technology, a new strategic priority for luxury houses - fashionunited.uk\", \"score\": 0.0, \"published_date\": \"Wed, 17 Sep 2025 12:50:27 GMT\", \"content\": \"* Technology, a new strategic priority for luxury houses # Technology, a new strategic priority for luxury houses Beyond luxury, let\\'s recall two recent examples of major partnerships between the fashion sector and artificial intelligence: the recent stake taken by the Inditex group (parent company of Zara) in the \\\\\"intelligent\\\\\" robot start-up Theker Robotics; and the potential stake taken by the Meta group (formerly Facebook) in the French eyewear group EssilorLuxottica. The Spanish company Desigual, for example, has found in AI not only a creative tool, but also a way to consolidate its market positioning. In the US, fashion house Ralph Lauren has launched Ask Ralph, a new AI-powered styling tool within the Ralph Lauren app.\", \"raw_content\": null}], \"response_time\": 0.74, \"request_id\": \"8591b162-0e31-45d7-b42d-8a1454d66510\"}', name='tavily_search', id='30d1f54c-b3c6-4f47-b10d-d6e6c9830707', tool_call_id='xf2zcbqsc'),\n",
       "  AIMessage(content='The recent AI news is about the rise of predictive AI in hospitals, with 71% of hospitals now using it. Additionally, technology is becoming a new strategic priority for luxury houses, with some companies using AI as a creative tool and others using it to consolidate their market positioning.', additional_kwargs={}, response_metadata={'token_usage': {'completion_tokens': 57, 'prompt_tokens': 3026, 'total_tokens': 3083, 'completion_time': 0.103333687, 'prompt_time': 0.221306367, 'queue_time': 0.082725202, 'total_time': 0.324640054}, 'model_name': 'llama-3.1-8b-instant', 'system_fingerprint': 'fp_8804b970d6', 'service_tier': 'on_demand', 'finish_reason': 'stop', 'logprobs': None}, id='run--42a2f8ea-b786-45f0-985e-2fb2e99c90f1-0', usage_metadata={'input_tokens': 3026, 'output_tokens': 57, 'total_tokens': 3083})]}"
      ]
     },
     "execution_count": 58,
     "metadata": {},
     "output_type": "execute_result"
    }
   ],
   "source": [
    "response"
   ]
  },
  {
   "cell_type": "code",
   "execution_count": 59,
   "id": "44954d75",
   "metadata": {},
   "outputs": [
    {
     "data": {
      "text/plain": [
       "'The recent AI news is about the rise of predictive AI in hospitals, with 71% of hospitals now using it. Additionally, technology is becoming a new strategic priority for luxury houses, with some companies using AI as a creative tool and others using it to consolidate their market positioning.'"
      ]
     },
     "execution_count": 59,
     "metadata": {},
     "output_type": "execute_result"
    }
   ],
   "source": [
    "response[\"messages\"][-1].content"
   ]
  },
  {
   "cell_type": "code",
   "execution_count": 60,
   "id": "f46fed43",
   "metadata": {},
   "outputs": [
    {
     "name": "stdout",
     "output_type": "stream",
     "text": [
      "================================\u001b[1m Human Message \u001b[0m=================================\n",
      "\n",
      "What is the recent ai news\n",
      "==================================\u001b[1m Ai Message \u001b[0m==================================\n",
      "Tool Calls:\n",
      "  tavily_search (kdgjhvb4b)\n",
      " Call ID: kdgjhvb4b\n",
      "  Args:\n",
      "    query: Recent AI news\n",
      "    start_date: 2023-12-25\n",
      "    time_range: day\n",
      "    topic: news\n",
      "  tavily_search (b8g1s4kpc)\n",
      " Call ID: b8g1s4kpc\n",
      "  Args:\n",
      "    query: Recent AI news\n",
      "    start_date: 2023-12-25\n",
      "    time_range: day\n",
      "    topic: news\n",
      "  tavily_search (kvc4d9hxv)\n",
      " Call ID: kvc4d9hxv\n",
      "  Args:\n",
      "    query: Recent AI news\n",
      "    start_date: 2023-12-25\n",
      "    time_range: day\n",
      "    topic: news\n",
      "  tavily_search (z3a5gfgjc)\n",
      " Call ID: z3a5gfgjc\n",
      "  Args:\n",
      "    query: Recent AI news\n",
      "    start_date: 2023-12-25\n",
      "    time_range: day\n",
      "    topic: news\n",
      "  tavily_search (ez0tb2zjr)\n",
      " Call ID: ez0tb2zjr\n",
      "  Args:\n",
      "    query: Recent AI news\n",
      "    start_date: 2023-12-25\n",
      "    time_range: day\n",
      "    topic: news\n",
      "  tavily_search (s0xcd4230)\n",
      " Call ID: s0xcd4230\n",
      "  Args:\n",
      "    query: Recent AI news\n",
      "    start_date: 2023-12-25\n",
      "    time_range: day\n",
      "    topic: news\n",
      "  tavily_search (ccytvav0g)\n",
      " Call ID: ccytvav0g\n",
      "  Args:\n",
      "    query: Recent AI news\n",
      "    start_date: 2023-12-25\n",
      "    time_range: day\n",
      "    topic: news\n",
      "=================================\u001b[1m Tool Message \u001b[0m=================================\n",
      "Name: tavily_search\n",
      "\n",
      "{'error': ValueError('Error 400: When time_range is set, start_date or end_date cannot be set')}\n",
      "=================================\u001b[1m Tool Message \u001b[0m=================================\n",
      "Name: tavily_search\n",
      "\n",
      "{'error': ValueError('Error 400: When time_range is set, start_date or end_date cannot be set')}\n",
      "=================================\u001b[1m Tool Message \u001b[0m=================================\n",
      "Name: tavily_search\n",
      "\n",
      "{'error': ValueError('Error 400: When time_range is set, start_date or end_date cannot be set')}\n",
      "=================================\u001b[1m Tool Message \u001b[0m=================================\n",
      "Name: tavily_search\n",
      "\n",
      "{'error': ValueError('Error 400: When time_range is set, start_date or end_date cannot be set')}\n",
      "=================================\u001b[1m Tool Message \u001b[0m=================================\n",
      "Name: tavily_search\n",
      "\n",
      "{'error': ValueError('Error 400: When time_range is set, start_date or end_date cannot be set')}\n",
      "=================================\u001b[1m Tool Message \u001b[0m=================================\n",
      "Name: tavily_search\n",
      "\n",
      "{'error': ValueError('Error 400: When time_range is set, start_date or end_date cannot be set')}\n",
      "=================================\u001b[1m Tool Message \u001b[0m=================================\n",
      "Name: tavily_search\n",
      "\n",
      "{'error': ValueError('Error 400: When time_range is set, start_date or end_date cannot be set')}\n",
      "==================================\u001b[1m Ai Message \u001b[0m==================================\n",
      "\n",
      "The function call results in an error because when 'time_range' is set, either 'start_date' or 'end_date' should be set, but not both. \n",
      "\n",
      "Here is the corrected function call:\n",
      "Tool Calls:\n",
      "  tavily_search (xf2zcbqsc)\n",
      " Call ID: xf2zcbqsc\n",
      "  Args:\n",
      "    query: Recent AI news\n",
      "    time_range: day\n",
      "    topic: news\n",
      "=================================\u001b[1m Tool Message \u001b[0m=================================\n",
      "Name: tavily_search\n",
      "\n",
      "{\"query\": \"Recent AI news\", \"follow_up_questions\": null, \"answer\": null, \"images\": [], \"results\": [{\"url\": \"https://hitconsultant.net/2025/09/17/the-rise-of-predictive-ai-in-hospitals/\", \"title\": \"71% of Hospitals Now Use Predictive AI, But a Digital Divide Remains - HIT Consultant\", \"score\": 1.0, \"published_date\": \"Wed, 17 Sep 2025 18:50:22 GMT\", \"content\": \"– A recent data brief from the American Hospital Association (AHA) and the ASTP/ONC examines the trends in predictive AI adoption, evaluation, and governance using data from 2023 and 2024. Predictive AI adoption is on the rise, with 71% of hospitals reporting its use in 2024, a notable increase from 66% in 2023. In 2024, 80% of hospitals used predictive AI from their electronic health record (EHR) developer, while 52% used third-party developed AI and 50% used self-developed AI. Three-quarters of hospitals reported that multiple entities were accountable for evaluating predictive AI in 2024, with a specific committee or task force being the most common entity cited (66%). For more information about the ASTP/ONC data brief, visit **Hospital Trends in the Use, Evaluation, and Governance of Predictive AI, 2023-2024**\", \"raw_content\": null}, {\"url\": \"https://fashionunited.uk/news/business/technology-a-new-strategic-priority-for-luxury-houses/2025091783969\", \"title\": \"Technology, a new strategic priority for luxury houses - fashionunited.uk\", \"score\": 0.0, \"published_date\": \"Wed, 17 Sep 2025 12:50:27 GMT\", \"content\": \"* Technology, a new strategic priority for luxury houses # Technology, a new strategic priority for luxury houses Beyond luxury, let's recall two recent examples of major partnerships between the fashion sector and artificial intelligence: the recent stake taken by the Inditex group (parent company of Zara) in the \\\"intelligent\\\" robot start-up Theker Robotics; and the potential stake taken by the Meta group (formerly Facebook) in the French eyewear group EssilorLuxottica. The Spanish company Desigual, for example, has found in AI not only a creative tool, but also a way to consolidate its market positioning. In the US, fashion house Ralph Lauren has launched Ask Ralph, a new AI-powered styling tool within the Ralph Lauren app.\", \"raw_content\": null}], \"response_time\": 0.74, \"request_id\": \"8591b162-0e31-45d7-b42d-8a1454d66510\"}\n",
      "==================================\u001b[1m Ai Message \u001b[0m==================================\n",
      "\n",
      "The recent AI news is about the rise of predictive AI in hospitals, with 71% of hospitals now using it. Additionally, technology is becoming a new strategic priority for luxury houses, with some companies using AI as a creative tool and others using it to consolidate their market positioning.\n"
     ]
    }
   ],
   "source": [
    "for m in response[\"messages\"]:\n",
    "    m.pretty_print()"
   ]
  },
  {
   "cell_type": "code",
   "execution_count": 61,
   "id": "04f1096c",
   "metadata": {},
   "outputs": [],
   "source": [
    "response=graph.invoke({\"messages\":\"What is 2 multiplied by 3\"})"
   ]
  },
  {
   "cell_type": "code",
   "execution_count": 62,
   "id": "8e2842a1",
   "metadata": {},
   "outputs": [
    {
     "data": {
      "text/plain": [
       "{'messages': [HumanMessage(content='What is 2 multiplied by 3', additional_kwargs={}, response_metadata={}, id='f137a4bb-9859-49d2-bcb2-8eb4c5fbcf17'),\n",
       "  AIMessage(content='', additional_kwargs={'tool_calls': [{'id': '04ybmm70n', 'function': {'arguments': '{\"a\":2,\"b\":3}', 'name': 'multiply'}, 'type': 'function'}]}, response_metadata={'token_usage': {'completion_tokens': 19, 'prompt_tokens': 1884, 'total_tokens': 1903, 'completion_time': 0.030015804, 'prompt_time': 0.113698129, 'queue_time': 0.0498543, 'total_time': 0.143713933}, 'model_name': 'llama-3.1-8b-instant', 'system_fingerprint': 'fp_c54ae48ece', 'service_tier': 'on_demand', 'finish_reason': 'tool_calls', 'logprobs': None}, id='run--d8f2ca31-5d03-485a-a155-fe57ee5341ce-0', tool_calls=[{'name': 'multiply', 'args': {'a': 2, 'b': 3}, 'id': '04ybmm70n', 'type': 'tool_call'}], usage_metadata={'input_tokens': 1884, 'output_tokens': 19, 'total_tokens': 1903}),\n",
       "  ToolMessage(content='6', name='multiply', id='6cd70c14-3c51-43ef-9f4a-b05a06ca719d', tool_call_id='04ybmm70n'),\n",
       "  AIMessage(content='The result of the multiplication is 6.', additional_kwargs={}, response_metadata={'token_usage': {'completion_tokens': 10, 'prompt_tokens': 1914, 'total_tokens': 1924, 'completion_time': 0.022965925, 'prompt_time': 0.115418367, 'queue_time': 0.050664393, 'total_time': 0.138384292}, 'model_name': 'llama-3.1-8b-instant', 'system_fingerprint': 'fp_c54ae48ece', 'service_tier': 'on_demand', 'finish_reason': 'stop', 'logprobs': None}, id='run--b89aafb8-8686-4f61-b78f-7af50d62b8b9-0', usage_metadata={'input_tokens': 1914, 'output_tokens': 10, 'total_tokens': 1924})]}"
      ]
     },
     "execution_count": 62,
     "metadata": {},
     "output_type": "execute_result"
    }
   ],
   "source": [
    "response"
   ]
  },
  {
   "cell_type": "code",
   "execution_count": 63,
   "id": "eb68ad4d",
   "metadata": {},
   "outputs": [
    {
     "name": "stdout",
     "output_type": "stream",
     "text": [
      "================================\u001b[1m Human Message \u001b[0m=================================\n",
      "\n",
      "What is 2 multiplied by 3\n",
      "==================================\u001b[1m Ai Message \u001b[0m==================================\n",
      "Tool Calls:\n",
      "  multiply (04ybmm70n)\n",
      " Call ID: 04ybmm70n\n",
      "  Args:\n",
      "    a: 2\n",
      "    b: 3\n",
      "=================================\u001b[1m Tool Message \u001b[0m=================================\n",
      "Name: multiply\n",
      "\n",
      "6\n",
      "==================================\u001b[1m Ai Message \u001b[0m==================================\n",
      "\n",
      "The result of the multiplication is 6.\n"
     ]
    }
   ],
   "source": [
    "for m in response[\"messages\"]:\n",
    "    m.pretty_print()"
   ]
  },
  {
   "cell_type": "code",
   "execution_count": 64,
   "id": "d18a7ddb",
   "metadata": {},
   "outputs": [
    {
     "name": "stdout",
     "output_type": "stream",
     "text": [
      "================================\u001b[1m Human Message \u001b[0m=================================\n",
      "\n",
      "What is the recent ai news and What is 2 multiplied by 3\n",
      "==================================\u001b[1m Ai Message \u001b[0m==================================\n",
      "Tool Calls:\n",
      "  tavily_search (c33maamn1)\n",
      " Call ID: c33maamn1\n",
      "  Args:\n",
      "    query: recent AI news\n",
      "    time_range: month\n",
      "    topic: news\n",
      "  multiply (jm6ykttbd)\n",
      " Call ID: jm6ykttbd\n",
      "  Args:\n",
      "    a: 2\n",
      "    b: 3\n",
      "=================================\u001b[1m Tool Message \u001b[0m=================================\n",
      "Name: tavily_search\n",
      "\n",
      "{\"query\": \"recent AI news\", \"follow_up_questions\": null, \"answer\": null, \"images\": [], \"results\": [{\"url\": \"https://www.startupecosystem.ca/news/goodfood-ceo-steps-down-amid-operational-review-and-losses/\", \"title\": \"Goodfood CEO Steps Down Amid Operational Review and Losses - Startup Ecosystem Canada\", \"score\": 1.0, \"published_date\": \"Tue, 26 Aug 2025 04:09:12 GMT\", \"content\": \"## Goodfood CEO Steps Down Amid Operational Review and Losses Jonathan Ferrari, the co-founder and CEO of the Montréal-based meal delivery company Goodfood, has stepped down from his role as CEO and board chair amid recent financial losses. Despite challenges, Goodfood sees potential for growth, as highlighted by its acquisition of a controlling stake in Genuine Tea and its investment in a Bitcoin-based exchange-traded fund. #### CEO of meal delivery company Goodfood abruptly departs amid recent losses AI AI development AI infrastructure AI innovation AI investment AI models AI technology Canada founder news Canada startup news Funding round Global founder news Global startup news Ontario founder news Ontario startup news Seed funding Toronto startup news Startup Eco System28 May 2025\", \"raw_content\": null}, {\"url\": \"https://www.startupecosystem.ca/news/cognition-ai-raises-400m-at-10-2b-valuation-despite-challenges/\", \"title\": \"Cognition AI Raises $400M at $10.2B Valuation Despite Challenges - Startup Ecosystem Canada\", \"score\": 0.0, \"published_date\": \"Tue, 09 Sep 2025 00:10:44 GMT\", \"content\": \"## Cognition AI Raises $400M at $10.2B Valuation Despite Challenges Cognition AI, known for its AI coding agent Devin, has achieved a valuation of $10.2 billion following a $400 million funding round. In recent developments, Cognition acquired AI coding startup Windsurf in July, shortly after Google hired the startup’s CEO and co-founder. AI codingFunding roundGlobal startup newsPeter ThielWork culture #### Cognition AI defies turbulence with a $400M raise at $10.2B valuation AI AI development AI infrastructure AI innovation AI integration AI investment AI models AI technology Canada founder news Canada startup news Generative AI Global founder news Global startup news Ontario founder news Ontario startup news Startup growth Toronto startup news Startup Eco System1 June 2025 Startup Eco System10 July 2025\", \"raw_content\": null}], \"response_time\": 0.92, \"request_id\": \"d787f22d-68ce-48c9-9bdc-805c05053541\"}\n",
      "=================================\u001b[1m Tool Message \u001b[0m=================================\n",
      "Name: multiply\n",
      "\n",
      "6\n",
      "==================================\u001b[1m Ai Message \u001b[0m==================================\n",
      "\n",
      "The recent AI news is about various companies such as Goodfood and Cognition AI. Goodfood's CEO recently stepped down, and Cognition AI has raised $400M at a valuation of $10.2B despite challenges. The result of the multiplication of 2 and 3 is 6.\n"
     ]
    }
   ],
   "source": [
    "response=graph.invoke({\"messages\":\"What is the recent ai news and What is 2 multiplied by 3\"})\n",
    "for m in response[\"messages\"]:\n",
    "    m.pretty_print()"
   ]
  },
  {
   "cell_type": "code",
   "execution_count": 65,
   "id": "e464c201",
   "metadata": {},
   "outputs": [
    {
     "name": "stdout",
     "output_type": "stream",
     "text": [
      "================================\u001b[1m Human Message \u001b[0m=================================\n",
      "\n",
      "Hello, my name is vaish\n",
      "==================================\u001b[1m Ai Message \u001b[0m==================================\n",
      "\n",
      "Nice to meet you, Vaish. Is there something I can help you with today?\n"
     ]
    }
   ],
   "source": [
    "response=graph.invoke({\"messages\":\"Hello, my name is vaish\"})\n",
    "for m in response[\"messages\"]:\n",
    "    m.pretty_print()"
   ]
  },
  {
   "cell_type": "code",
   "execution_count": 66,
   "id": "71ba7f8d",
   "metadata": {},
   "outputs": [
    {
     "name": "stdout",
     "output_type": "stream",
     "text": [
      "================================\u001b[1m Human Message \u001b[0m=================================\n",
      "\n",
      "Hello, What is my name\n",
      "==================================\u001b[1m Ai Message \u001b[0m==================================\n",
      "\n",
      "I don't have any information about your name. I'm a large language model, I don't have personal relationships or access to personal data, so I won't be able to recall or retrieve any information about you. If you'd like to share your name, I'd be happy to chat with you, though!\n"
     ]
    }
   ],
   "source": [
    "response=graph.invoke({\"messages\":\"Hello, What is my name\"})\n",
    "for m in response[\"messages\"]:\n",
    "    m.pretty_print()"
   ]
  },
  {
   "cell_type": "code",
   "execution_count": 67,
   "id": "b3abbeb9",
   "metadata": {},
   "outputs": [],
   "source": [
    "# So for above situations we add memory in our graph"
   ]
  },
  {
   "cell_type": "markdown",
   "id": "c74711bc",
   "metadata": {},
   "source": [
    "# Adding memory in Agentic Graph"
   ]
  },
  {
   "cell_type": "code",
   "execution_count": 68,
   "id": "cb615ddd",
   "metadata": {},
   "outputs": [
    {
     "data": {
      "image/png": "[encoded data removed]",
      "text/plain": [
       "<IPython.core.display.Image object>"
      ]
     },
     "metadata": {},
     "output_type": "display_data"
    }
   ],
   "source": [
    "## StateGraph\n",
    "from langgraph.graph import StateGraph,START,END\n",
    "from langgraph.prebuilt import ToolNode\n",
    "from langgraph.prebuilt import tools_condition\n",
    "from langgraph.checkpoint.memory import MemorySaver\n",
    "\n",
    "memory = MemorySaver()\n",
    "\n",
    "## Node definition\n",
    "def tool_calling_llm(state:State):\n",
    "    return {\"messages\":[llm_with_tools.invoke(state[\"messages\"])]}\n",
    "\n",
    "## Graph\n",
    "builder=StateGraph(State)\n",
    "builder.add_node(\"tool_calling_llm\",tool_calling_llm)\n",
    "builder.add_node(\"tools\",ToolNode(tools))\n",
    "\n",
    "## Add edges\n",
    "builder.add_edge(START, \"tool_calling_llm\")\n",
    "builder.add_conditional_edges(\n",
    "    \"tool_calling_llm\",\n",
    "    #if the latest message (result) from assistant is a tool call -> tool_condition routes to tools\n",
    "    #if the latest message (result) from assistant is a tool call -> tool_condition routes to END\n",
    "    tools_condition\n",
    ")\n",
    "builder.add_edge(\"tools\", \"tool_calling_llm\")\n",
    "\n",
    "# Attach to your graph with memory when compiling\n",
    "graph=builder.compile(checkpointer=memory)\n",
    "\n",
    "display(Image(graph.get_graph().draw_mermaid_png()))\n",
    "\n"
   ]
  },
  {
   "cell_type": "code",
   "execution_count": 71,
   "id": "6e89f366",
   "metadata": {},
   "outputs": [],
   "source": [
    "config={\"configurable\":{\"thread_id\":\"1\"}}\n",
    "\n",
    "response = graph.invoke({\"messages\":\"Hi my name is vaish\"},config=config)"
   ]
  },
  {
   "cell_type": "code",
   "execution_count": 72,
   "id": "976c9402",
   "metadata": {},
   "outputs": [
    {
     "data": {
      "text/plain": [
       "'Hello Vaish, how can I assist you today?'"
      ]
     },
     "execution_count": 72,
     "metadata": {},
     "output_type": "execute_result"
    }
   ],
   "source": [
    "response[\"messages\"][-1].content"
   ]
  },
  {
   "cell_type": "code",
   "execution_count": 73,
   "id": "bb655e48",
   "metadata": {},
   "outputs": [
    {
     "data": {
      "text/plain": [
       "'Your name is Vaish.'"
      ]
     },
     "execution_count": 73,
     "metadata": {},
     "output_type": "execute_result"
    }
   ],
   "source": [
    "response = graph.invoke({\"messages\":\"Hi what is my name\"},config=config)\n",
    "\n",
    "response[\"messages\"][-1].content"
   ]
  },
  {
   "cell_type": "code",
   "execution_count": 74,
   "id": "ab44c78a",
   "metadata": {},
   "outputs": [
    {
     "data": {
      "text/plain": [
       "\"Yes, I remember that your name is Vaish. We had a conversation earlier, but I don't have any specific context or details about our previous conversation. Would you like to continue talking about something in particular or start fresh?\""
      ]
     },
     "execution_count": 74,
     "metadata": {},
     "output_type": "execute_result"
    }
   ],
   "source": [
    "response = graph.invoke({\"messages\":\"Hi do you remember about me\"},config=config)\n",
    "\n",
    "response[\"messages\"][-1].content"
   ]
  },
  {
   "cell_type": "markdown",
   "id": "14f55573",
   "metadata": {},
   "source": [
    "# Streaming"
   ]
  },
  {
   "cell_type": "markdown",
   "id": "bada934f",
   "metadata": {},
   "source": [
    "Methods: .stream() and astream()\n",
    "\n",
    "These methods are sync and async methods for streaming back results.\n",
    "Additional parameters in streaming modes for graph state\n",
    "\n",
    "values : This streams the full state of the graph after each node is called.\n",
    "updates : This streams updates to the state of the graph after each node is called."
   ]
  },
  {
   "cell_type": "code",
   "execution_count": 80,
   "id": "0a3185a2",
   "metadata": {},
   "outputs": [],
   "source": [
    "from langgraph.checkpoint.memory import MemorySaver\n",
    "\n",
    "memory = MemorySaver()"
   ]
  },
  {
   "cell_type": "code",
   "execution_count": 81,
   "id": "d1dad152",
   "metadata": {},
   "outputs": [],
   "source": [
    "def superbot(state:State):\n",
    "    return {\"messages\":[llm.invoke(state['messages'])]}"
   ]
  },
  {
   "cell_type": "code",
   "execution_count": 82,
   "id": "0bbc1ed9",
   "metadata": {},
   "outputs": [
    {
     "data": {
      "image/png": "[encoded data removed]",
      "text/plain": [
       "<IPython.core.display.Image object>"
      ]
     },
     "metadata": {},
     "output_type": "display_data"
    }
   ],
   "source": [
    "graph=StateGraph(State)\n",
    "\n",
    "## node\n",
    "graph.add_node(\"SuperBot\",superbot)\n",
    "## Edges\n",
    "\n",
    "graph.add_edge(START,\"SuperBot\")\n",
    "graph.add_edge(\"SuperBot\",END)\n",
    "\n",
    "\n",
    "graph_builder=graph.compile(checkpointer=memory)\n",
    "\n",
    "\n",
    "## Display\n",
    "from IPython.display import Image, display\n",
    "display(Image(graph_builder.get_graph().draw_mermaid_png()))"
   ]
  },
  {
   "cell_type": "code",
   "execution_count": 83,
   "id": "35a7f8ef",
   "metadata": {},
   "outputs": [
    {
     "data": {
      "text/plain": [
       "{'messages': [HumanMessage(content='Hi,My name is vaish And I like cricket', additional_kwargs={}, response_metadata={}, id='93a4e2a0-f9d0-48c3-8111-badda3a6c1f5'),\n",
       "  AIMessage(content='Nice to meet you, Vaish. Cricket is a popular sport, especially in India. Which team is your favorite in the Indian Premier League (IPL) or international cricket?', additional_kwargs={}, response_metadata={'token_usage': {'completion_tokens': 37, 'prompt_tokens': 46, 'total_tokens': 83, 'completion_time': 0.055255543, 'prompt_time': 0.002320467, 'queue_time': 0.049168153, 'total_time': 0.05757601}, 'model_name': 'llama-3.1-8b-instant', 'system_fingerprint': 'fp_c54ae48ece', 'service_tier': 'on_demand', 'finish_reason': 'stop', 'logprobs': None}, id='run--5fbbfa29-b391-40a2-87c2-3f29412c656f-0', usage_metadata={'input_tokens': 46, 'output_tokens': 37, 'total_tokens': 83})]}"
      ]
     },
     "execution_count": 83,
     "metadata": {},
     "output_type": "execute_result"
    }
   ],
   "source": [
    "## Invocation\n",
    "\n",
    "config = {\"configurable\": {\"thread_id\": \"1\"}}\n",
    "\n",
    "graph_builder.invoke({'messages':\"Hi,My name is vaish And I like cricket\"},config)"
   ]
  },
  {
   "cell_type": "code",
   "execution_count": 84,
   "id": "ad40b48e",
   "metadata": {},
   "outputs": [
    {
     "name": "stdout",
     "output_type": "stream",
     "text": [
      "{'SuperBot': {'messages': [AIMessage(content='Nice to meet you, Vaish! Cricket is a fantastic sport, and there are many exciting aspects to it. Are you a fan of a particular team or player? Do you prefer watching Test matches, One-Day Internationals (ODIs), or Twenty20 (T20) games?', additional_kwargs={}, response_metadata={'token_usage': {'completion_tokens': 60, 'prompt_tokens': 46, 'total_tokens': 106, 'completion_time': 0.093354609, 'prompt_time': 0.002274558, 'queue_time': 0.049745673, 'total_time': 0.095629167}, 'model_name': 'llama-3.1-8b-instant', 'system_fingerprint': 'fp_8a13dfab2b', 'service_tier': 'on_demand', 'finish_reason': 'stop', 'logprobs': None}, id='run--3aaa6fc2-2bb3-4405-8757-ac1efc7a7f8a-0', usage_metadata={'input_tokens': 46, 'output_tokens': 60, 'total_tokens': 106})]}}\n"
     ]
    }
   ],
   "source": [
    "# Create a thread\n",
    "config = {\"configurable\": {\"thread_id\": \"3\"}}\n",
    "\n",
    "for chunk in graph_builder.stream({'messages':\"Hi,My name is vaish And I like cricket\"},config,stream_mode=\"updates\"):\n",
    "    print(chunk)"
   ]
  },
  {
   "cell_type": "code",
   "execution_count": 85,
   "id": "0d69021e",
   "metadata": {},
   "outputs": [
    {
     "name": "stdout",
     "output_type": "stream",
     "text": [
      "{'messages': [HumanMessage(content='Hi,My name is vaish And I like cricket', additional_kwargs={}, response_metadata={}, id='65445cfd-8db6-46e2-8e85-4276d5b78eb4'), AIMessage(content='Nice to meet you, Vaish! Cricket is a fantastic sport, and there are many exciting aspects to it. Are you a fan of a particular team or player? Do you prefer watching Test matches, One-Day Internationals (ODIs), or Twenty20 (T20) games?', additional_kwargs={}, response_metadata={'token_usage': {'completion_tokens': 60, 'prompt_tokens': 46, 'total_tokens': 106, 'completion_time': 0.093354609, 'prompt_time': 0.002274558, 'queue_time': 0.049745673, 'total_time': 0.095629167}, 'model_name': 'llama-3.1-8b-instant', 'system_fingerprint': 'fp_8a13dfab2b', 'service_tier': 'on_demand', 'finish_reason': 'stop', 'logprobs': None}, id='run--3aaa6fc2-2bb3-4405-8757-ac1efc7a7f8a-0', usage_metadata={'input_tokens': 46, 'output_tokens': 60, 'total_tokens': 106}), HumanMessage(content='Hi,My name is vaish And I like cricket', additional_kwargs={}, response_metadata={}, id='e210c1f9-1d31-4145-96a4-b9efb6733e5e')]}\n",
      "{'messages': [HumanMessage(content='Hi,My name is vaish And I like cricket', additional_kwargs={}, response_metadata={}, id='65445cfd-8db6-46e2-8e85-4276d5b78eb4'), AIMessage(content='Nice to meet you, Vaish! Cricket is a fantastic sport, and there are many exciting aspects to it. Are you a fan of a particular team or player? Do you prefer watching Test matches, One-Day Internationals (ODIs), or Twenty20 (T20) games?', additional_kwargs={}, response_metadata={'token_usage': {'completion_tokens': 60, 'prompt_tokens': 46, 'total_tokens': 106, 'completion_time': 0.093354609, 'prompt_time': 0.002274558, 'queue_time': 0.049745673, 'total_time': 0.095629167}, 'model_name': 'llama-3.1-8b-instant', 'system_fingerprint': 'fp_8a13dfab2b', 'service_tier': 'on_demand', 'finish_reason': 'stop', 'logprobs': None}, id='run--3aaa6fc2-2bb3-4405-8757-ac1efc7a7f8a-0', usage_metadata={'input_tokens': 46, 'output_tokens': 60, 'total_tokens': 106}), HumanMessage(content='Hi,My name is vaish And I like cricket', additional_kwargs={}, response_metadata={}, id='e210c1f9-1d31-4145-96a4-b9efb6733e5e'), AIMessage(content=\"Vaish, that's a great interest to have. Cricket is a popular sport globally, especially in the Indian subcontinent. Do you play cricket yourself or just enjoy watching it?\", additional_kwargs={}, response_metadata={'token_usage': {'completion_tokens': 37, 'prompt_tokens': 126, 'total_tokens': 163, 'completion_time': 0.063495121, 'prompt_time': 0.007463874, 'queue_time': 0.048715067, 'total_time': 0.070958995}, 'model_name': 'llama-3.1-8b-instant', 'system_fingerprint': 'fp_8804b970d6', 'service_tier': 'on_demand', 'finish_reason': 'stop', 'logprobs': None}, id='run--918b0c22-f9c5-4248-b0f8-15ec65f128e2-0', usage_metadata={'input_tokens': 126, 'output_tokens': 37, 'total_tokens': 163})]}\n"
     ]
    }
   ],
   "source": [
    "for chunk in graph_builder.stream({'messages':\"Hi,My name is vaish And I like cricket\"},config,stream_mode=\"values\"):\n",
    "    print(chunk)"
   ]
  },
  {
   "cell_type": "code",
   "execution_count": 86,
   "id": "c9c5b08d",
   "metadata": {},
   "outputs": [
    {
     "name": "stdout",
     "output_type": "stream",
     "text": [
      "{'event': 'on_chain_start', 'data': {'input': {'messages': ['Hi My name is Krish and I like to play cricket']}}, 'name': 'LangGraph', 'tags': [], 'run_id': 'fb6fb530-2d34-40f7-a056-a58a42023fc5', 'metadata': {'thread_id': '5'}, 'parent_ids': []}\n",
      "{'event': 'on_chain_start', 'data': {'input': {'messages': [HumanMessage(content='Hi My name is Krish and I like to play cricket', additional_kwargs={}, response_metadata={}, id='84dd0418-2d6b-4f8e-8bcb-3a67b11caba2')]}}, 'name': 'SuperBot', 'tags': ['graph:step:1'], 'run_id': 'b3d65a0b-1504-441a-952d-39fb278fba74', 'metadata': {'thread_id': '5', 'langgraph_step': 1, 'langgraph_node': 'SuperBot', 'langgraph_triggers': ('branch:to:SuperBot',), 'langgraph_path': ('__pregel_pull', 'SuperBot'), 'langgraph_checkpoint_ns': 'SuperBot:7c765601-9ef3-570c-ba15-090353cfc0e6'}, 'parent_ids': ['fb6fb530-2d34-40f7-a056-a58a42023fc5']}\n",
      "{'event': 'on_chat_model_start', 'data': {'input': {'messages': [[HumanMessage(content='Hi My name is Krish and I like to play cricket', additional_kwargs={}, response_metadata={}, id='84dd0418-2d6b-4f8e-8bcb-3a67b11caba2')]]}}, 'name': 'ChatGroq', 'tags': ['seq:step:1'], 'run_id': 'd3d68252-4d3c-4fd7-abdf-1ae7caea8004', 'metadata': {'thread_id': '5', 'langgraph_step': 1, 'langgraph_node': 'SuperBot', 'langgraph_triggers': ('branch:to:SuperBot',), 'langgraph_path': ('__pregel_pull', 'SuperBot'), 'langgraph_checkpoint_ns': 'SuperBot:7c765601-9ef3-570c-ba15-090353cfc0e6', 'checkpoint_ns': 'SuperBot:7c765601-9ef3-570c-ba15-090353cfc0e6', 'ls_provider': 'groq', 'ls_model_name': 'llama-3.1-8b-instant', 'ls_model_type': 'chat', 'ls_temperature': 0.7}, 'parent_ids': ['fb6fb530-2d34-40f7-a056-a58a42023fc5', 'b3d65a0b-1504-441a-952d-39fb278fba74']}\n",
      "{'event': 'on_chat_model_stream', 'data': {'chunk': AIMessageChunk(content='', additional_kwargs={}, response_metadata={}, id='run--d3d68252-4d3c-4fd7-abdf-1ae7caea8004')}, 'run_id': 'd3d68252-4d3c-4fd7-abdf-1ae7caea8004', 'name': 'ChatGroq', 'tags': ['seq:step:1'], 'metadata': {'thread_id': '5', 'langgraph_step': 1, 'langgraph_node': 'SuperBot', 'langgraph_triggers': ('branch:to:SuperBot',), 'langgraph_path': ('__pregel_pull', 'SuperBot'), 'langgraph_checkpoint_ns': 'SuperBot:7c765601-9ef3-570c-ba15-090353cfc0e6', 'checkpoint_ns': 'SuperBot:7c765601-9ef3-570c-ba15-090353cfc0e6', 'ls_provider': 'groq', 'ls_model_name': 'llama-3.1-8b-instant', 'ls_model_type': 'chat', 'ls_temperature': 0.7}, 'parent_ids': ['fb6fb530-2d34-40f7-a056-a58a42023fc5', 'b3d65a0b-1504-441a-952d-39fb278fba74']}\n",
      "{'event': 'on_chat_model_stream', 'data': {'chunk': AIMessageChunk(content='Nice', additional_kwargs={}, response_metadata={}, id='run--d3d68252-4d3c-4fd7-abdf-1ae7caea8004')}, 'run_id': 'd3d68252-4d3c-4fd7-abdf-1ae7caea8004', 'name': 'ChatGroq', 'tags': ['seq:step:1'], 'metadata': {'thread_id': '5', 'langgraph_step': 1, 'langgraph_node': 'SuperBot', 'langgraph_triggers': ('branch:to:SuperBot',), 'langgraph_path': ('__pregel_pull', 'SuperBot'), 'langgraph_checkpoint_ns': 'SuperBot:7c765601-9ef3-570c-ba15-090353cfc0e6', 'checkpoint_ns': 'SuperBot:7c765601-9ef3-570c-ba15-090353cfc0e6', 'ls_provider': 'groq', 'ls_model_name': 'llama-3.1-8b-instant', 'ls_model_type': 'chat', 'ls_temperature': 0.7}, 'parent_ids': ['fb6fb530-2d34-40f7-a056-a58a42023fc5', 'b3d65a0b-1504-441a-952d-39fb278fba74']}\n",
      "{'event': 'on_chat_model_stream', 'data': {'chunk': AIMessageChunk(content=' to', additional_kwargs={}, response_metadata={}, id='run--d3d68252-4d3c-4fd7-abdf-1ae7caea8004')}, 'run_id': 'd3d68252-4d3c-4fd7-abdf-1ae7caea8004', 'name': 'ChatGroq', 'tags': ['seq:step:1'], 'metadata': {'thread_id': '5', 'langgraph_step': 1, 'langgraph_node': 'SuperBot', 'langgraph_triggers': ('branch:to:SuperBot',), 'langgraph_path': ('__pregel_pull', 'SuperBot'), 'langgraph_checkpoint_ns': 'SuperBot:7c765601-9ef3-570c-ba15-090353cfc0e6', 'checkpoint_ns': 'SuperBot:7c765601-9ef3-570c-ba15-090353cfc0e6', 'ls_provider': 'groq', 'ls_model_name': 'llama-3.1-8b-instant', 'ls_model_type': 'chat', 'ls_temperature': 0.7}, 'parent_ids': ['fb6fb530-2d34-40f7-a056-a58a42023fc5', 'b3d65a0b-1504-441a-952d-39fb278fba74']}\n",
      "{'event': 'on_chat_model_stream', 'data': {'chunk': AIMessageChunk(content=' meet', additional_kwargs={}, response_metadata={}, id='run--d3d68252-4d3c-4fd7-abdf-1ae7caea8004')}, 'run_id': 'd3d68252-4d3c-4fd7-abdf-1ae7caea8004', 'name': 'ChatGroq', 'tags': ['seq:step:1'], 'metadata': {'thread_id': '5', 'langgraph_step': 1, 'langgraph_node': 'SuperBot', 'langgraph_triggers': ('branch:to:SuperBot',), 'langgraph_path': ('__pregel_pull', 'SuperBot'), 'langgraph_checkpoint_ns': 'SuperBot:7c765601-9ef3-570c-ba15-090353cfc0e6', 'checkpoint_ns': 'SuperBot:7c765601-9ef3-570c-ba15-090353cfc0e6', 'ls_provider': 'groq', 'ls_model_name': 'llama-3.1-8b-instant', 'ls_model_type': 'chat', 'ls_temperature': 0.7}, 'parent_ids': ['fb6fb530-2d34-40f7-a056-a58a42023fc5', 'b3d65a0b-1504-441a-952d-39fb278fba74']}\n",
      "{'event': 'on_chat_model_stream', 'data': {'chunk': AIMessageChunk(content=' you', additional_kwargs={}, response_metadata={}, id='run--d3d68252-4d3c-4fd7-abdf-1ae7caea8004')}, 'run_id': 'd3d68252-4d3c-4fd7-abdf-1ae7caea8004', 'name': 'ChatGroq', 'tags': ['seq:step:1'], 'metadata': {'thread_id': '5', 'langgraph_step': 1, 'langgraph_node': 'SuperBot', 'langgraph_triggers': ('branch:to:SuperBot',), 'langgraph_path': ('__pregel_pull', 'SuperBot'), 'langgraph_checkpoint_ns': 'SuperBot:7c765601-9ef3-570c-ba15-090353cfc0e6', 'checkpoint_ns': 'SuperBot:7c765601-9ef3-570c-ba15-090353cfc0e6', 'ls_provider': 'groq', 'ls_model_name': 'llama-3.1-8b-instant', 'ls_model_type': 'chat', 'ls_temperature': 0.7}, 'parent_ids': ['fb6fb530-2d34-40f7-a056-a58a42023fc5', 'b3d65a0b-1504-441a-952d-39fb278fba74']}\n",
      "{'event': 'on_chat_model_stream', 'data': {'chunk': AIMessageChunk(content=',', additional_kwargs={}, response_metadata={}, id='run--d3d68252-4d3c-4fd7-abdf-1ae7caea8004')}, 'run_id': 'd3d68252-4d3c-4fd7-abdf-1ae7caea8004', 'name': 'ChatGroq', 'tags': ['seq:step:1'], 'metadata': {'thread_id': '5', 'langgraph_step': 1, 'langgraph_node': 'SuperBot', 'langgraph_triggers': ('branch:to:SuperBot',), 'langgraph_path': ('__pregel_pull', 'SuperBot'), 'langgraph_checkpoint_ns': 'SuperBot:7c765601-9ef3-570c-ba15-090353cfc0e6', 'checkpoint_ns': 'SuperBot:7c765601-9ef3-570c-ba15-090353cfc0e6', 'ls_provider': 'groq', 'ls_model_name': 'llama-3.1-8b-instant', 'ls_model_type': 'chat', 'ls_temperature': 0.7}, 'parent_ids': ['fb6fb530-2d34-40f7-a056-a58a42023fc5', 'b3d65a0b-1504-441a-952d-39fb278fba74']}\n",
      "{'event': 'on_chat_model_stream', 'data': {'chunk': AIMessageChunk(content=' Krish', additional_kwargs={}, response_metadata={}, id='run--d3d68252-4d3c-4fd7-abdf-1ae7caea8004')}, 'run_id': 'd3d68252-4d3c-4fd7-abdf-1ae7caea8004', 'name': 'ChatGroq', 'tags': ['seq:step:1'], 'metadata': {'thread_id': '5', 'langgraph_step': 1, 'langgraph_node': 'SuperBot', 'langgraph_triggers': ('branch:to:SuperBot',), 'langgraph_path': ('__pregel_pull', 'SuperBot'), 'langgraph_checkpoint_ns': 'SuperBot:7c765601-9ef3-570c-ba15-090353cfc0e6', 'checkpoint_ns': 'SuperBot:7c765601-9ef3-570c-ba15-090353cfc0e6', 'ls_provider': 'groq', 'ls_model_name': 'llama-3.1-8b-instant', 'ls_model_type': 'chat', 'ls_temperature': 0.7}, 'parent_ids': ['fb6fb530-2d34-40f7-a056-a58a42023fc5', 'b3d65a0b-1504-441a-952d-39fb278fba74']}\n",
      "{'event': 'on_chat_model_stream', 'data': {'chunk': AIMessageChunk(content='.', additional_kwargs={}, response_metadata={}, id='run--d3d68252-4d3c-4fd7-abdf-1ae7caea8004')}, 'run_id': 'd3d68252-4d3c-4fd7-abdf-1ae7caea8004', 'name': 'ChatGroq', 'tags': ['seq:step:1'], 'metadata': {'thread_id': '5', 'langgraph_step': 1, 'langgraph_node': 'SuperBot', 'langgraph_triggers': ('branch:to:SuperBot',), 'langgraph_path': ('__pregel_pull', 'SuperBot'), 'langgraph_checkpoint_ns': 'SuperBot:7c765601-9ef3-570c-ba15-090353cfc0e6', 'checkpoint_ns': 'SuperBot:7c765601-9ef3-570c-ba15-090353cfc0e6', 'ls_provider': 'groq', 'ls_model_name': 'llama-3.1-8b-instant', 'ls_model_type': 'chat', 'ls_temperature': 0.7}, 'parent_ids': ['fb6fb530-2d34-40f7-a056-a58a42023fc5', 'b3d65a0b-1504-441a-952d-39fb278fba74']}\n",
      "{'event': 'on_chat_model_stream', 'data': {'chunk': AIMessageChunk(content=' Cricket', additional_kwargs={}, response_metadata={}, id='run--d3d68252-4d3c-4fd7-abdf-1ae7caea8004')}, 'run_id': 'd3d68252-4d3c-4fd7-abdf-1ae7caea8004', 'name': 'ChatGroq', 'tags': ['seq:step:1'], 'metadata': {'thread_id': '5', 'langgraph_step': 1, 'langgraph_node': 'SuperBot', 'langgraph_triggers': ('branch:to:SuperBot',), 'langgraph_path': ('__pregel_pull', 'SuperBot'), 'langgraph_checkpoint_ns': 'SuperBot:7c765601-9ef3-570c-ba15-090353cfc0e6', 'checkpoint_ns': 'SuperBot:7c765601-9ef3-570c-ba15-090353cfc0e6', 'ls_provider': 'groq', 'ls_model_name': 'llama-3.1-8b-instant', 'ls_model_type': 'chat', 'ls_temperature': 0.7}, 'parent_ids': ['fb6fb530-2d34-40f7-a056-a58a42023fc5', 'b3d65a0b-1504-441a-952d-39fb278fba74']}\n",
      "{'event': 'on_chat_model_stream', 'data': {'chunk': AIMessageChunk(content=' is', additional_kwargs={}, response_metadata={}, id='run--d3d68252-4d3c-4fd7-abdf-1ae7caea8004')}, 'run_id': 'd3d68252-4d3c-4fd7-abdf-1ae7caea8004', 'name': 'ChatGroq', 'tags': ['seq:step:1'], 'metadata': {'thread_id': '5', 'langgraph_step': 1, 'langgraph_node': 'SuperBot', 'langgraph_triggers': ('branch:to:SuperBot',), 'langgraph_path': ('__pregel_pull', 'SuperBot'), 'langgraph_checkpoint_ns': 'SuperBot:7c765601-9ef3-570c-ba15-090353cfc0e6', 'checkpoint_ns': 'SuperBot:7c765601-9ef3-570c-ba15-090353cfc0e6', 'ls_provider': 'groq', 'ls_model_name': 'llama-3.1-8b-instant', 'ls_model_type': 'chat', 'ls_temperature': 0.7}, 'parent_ids': ['fb6fb530-2d34-40f7-a056-a58a42023fc5', 'b3d65a0b-1504-441a-952d-39fb278fba74']}\n",
      "{'event': 'on_chat_model_stream', 'data': {'chunk': AIMessageChunk(content=' a', additional_kwargs={}, response_metadata={}, id='run--d3d68252-4d3c-4fd7-abdf-1ae7caea8004')}, 'run_id': 'd3d68252-4d3c-4fd7-abdf-1ae7caea8004', 'name': 'ChatGroq', 'tags': ['seq:step:1'], 'metadata': {'thread_id': '5', 'langgraph_step': 1, 'langgraph_node': 'SuperBot', 'langgraph_triggers': ('branch:to:SuperBot',), 'langgraph_path': ('__pregel_pull', 'SuperBot'), 'langgraph_checkpoint_ns': 'SuperBot:7c765601-9ef3-570c-ba15-090353cfc0e6', 'checkpoint_ns': 'SuperBot:7c765601-9ef3-570c-ba15-090353cfc0e6', 'ls_provider': 'groq', 'ls_model_name': 'llama-3.1-8b-instant', 'ls_model_type': 'chat', 'ls_temperature': 0.7}, 'parent_ids': ['fb6fb530-2d34-40f7-a056-a58a42023fc5', 'b3d65a0b-1504-441a-952d-39fb278fba74']}\n",
      "{'event': 'on_chat_model_stream', 'data': {'chunk': AIMessageChunk(content=' fantastic', additional_kwargs={}, response_metadata={}, id='run--d3d68252-4d3c-4fd7-abdf-1ae7caea8004')}, 'run_id': 'd3d68252-4d3c-4fd7-abdf-1ae7caea8004', 'name': 'ChatGroq', 'tags': ['seq:step:1'], 'metadata': {'thread_id': '5', 'langgraph_step': 1, 'langgraph_node': 'SuperBot', 'langgraph_triggers': ('branch:to:SuperBot',), 'langgraph_path': ('__pregel_pull', 'SuperBot'), 'langgraph_checkpoint_ns': 'SuperBot:7c765601-9ef3-570c-ba15-090353cfc0e6', 'checkpoint_ns': 'SuperBot:7c765601-9ef3-570c-ba15-090353cfc0e6', 'ls_provider': 'groq', 'ls_model_name': 'llama-3.1-8b-instant', 'ls_model_type': 'chat', 'ls_temperature': 0.7}, 'parent_ids': ['fb6fb530-2d34-40f7-a056-a58a42023fc5', 'b3d65a0b-1504-441a-952d-39fb278fba74']}\n",
      "{'event': 'on_chat_model_stream', 'data': {'chunk': AIMessageChunk(content=' sport', additional_kwargs={}, response_metadata={}, id='run--d3d68252-4d3c-4fd7-abdf-1ae7caea8004')}, 'run_id': 'd3d68252-4d3c-4fd7-abdf-1ae7caea8004', 'name': 'ChatGroq', 'tags': ['seq:step:1'], 'metadata': {'thread_id': '5', 'langgraph_step': 1, 'langgraph_node': 'SuperBot', 'langgraph_triggers': ('branch:to:SuperBot',), 'langgraph_path': ('__pregel_pull', 'SuperBot'), 'langgraph_checkpoint_ns': 'SuperBot:7c765601-9ef3-570c-ba15-090353cfc0e6', 'checkpoint_ns': 'SuperBot:7c765601-9ef3-570c-ba15-090353cfc0e6', 'ls_provider': 'groq', 'ls_model_name': 'llama-3.1-8b-instant', 'ls_model_type': 'chat', 'ls_temperature': 0.7}, 'parent_ids': ['fb6fb530-2d34-40f7-a056-a58a42023fc5', 'b3d65a0b-1504-441a-952d-39fb278fba74']}\n",
      "{'event': 'on_chat_model_stream', 'data': {'chunk': AIMessageChunk(content=',', additional_kwargs={}, response_metadata={}, id='run--d3d68252-4d3c-4fd7-abdf-1ae7caea8004')}, 'run_id': 'd3d68252-4d3c-4fd7-abdf-1ae7caea8004', 'name': 'ChatGroq', 'tags': ['seq:step:1'], 'metadata': {'thread_id': '5', 'langgraph_step': 1, 'langgraph_node': 'SuperBot', 'langgraph_triggers': ('branch:to:SuperBot',), 'langgraph_path': ('__pregel_pull', 'SuperBot'), 'langgraph_checkpoint_ns': 'SuperBot:7c765601-9ef3-570c-ba15-090353cfc0e6', 'checkpoint_ns': 'SuperBot:7c765601-9ef3-570c-ba15-090353cfc0e6', 'ls_provider': 'groq', 'ls_model_name': 'llama-3.1-8b-instant', 'ls_model_type': 'chat', 'ls_temperature': 0.7}, 'parent_ids': ['fb6fb530-2d34-40f7-a056-a58a42023fc5', 'b3d65a0b-1504-441a-952d-39fb278fba74']}\n",
      "{'event': 'on_chat_model_stream', 'data': {'chunk': AIMessageChunk(content=' and', additional_kwargs={}, response_metadata={}, id='run--d3d68252-4d3c-4fd7-abdf-1ae7caea8004')}, 'run_id': 'd3d68252-4d3c-4fd7-abdf-1ae7caea8004', 'name': 'ChatGroq', 'tags': ['seq:step:1'], 'metadata': {'thread_id': '5', 'langgraph_step': 1, 'langgraph_node': 'SuperBot', 'langgraph_triggers': ('branch:to:SuperBot',), 'langgraph_path': ('__pregel_pull', 'SuperBot'), 'langgraph_checkpoint_ns': 'SuperBot:7c765601-9ef3-570c-ba15-090353cfc0e6', 'checkpoint_ns': 'SuperBot:7c765601-9ef3-570c-ba15-090353cfc0e6', 'ls_provider': 'groq', 'ls_model_name': 'llama-3.1-8b-instant', 'ls_model_type': 'chat', 'ls_temperature': 0.7}, 'parent_ids': ['fb6fb530-2d34-40f7-a056-a58a42023fc5', 'b3d65a0b-1504-441a-952d-39fb278fba74']}\n",
      "{'event': 'on_chat_model_stream', 'data': {'chunk': AIMessageChunk(content=' I', additional_kwargs={}, response_metadata={}, id='run--d3d68252-4d3c-4fd7-abdf-1ae7caea8004')}, 'run_id': 'd3d68252-4d3c-4fd7-abdf-1ae7caea8004', 'name': 'ChatGroq', 'tags': ['seq:step:1'], 'metadata': {'thread_id': '5', 'langgraph_step': 1, 'langgraph_node': 'SuperBot', 'langgraph_triggers': ('branch:to:SuperBot',), 'langgraph_path': ('__pregel_pull', 'SuperBot'), 'langgraph_checkpoint_ns': 'SuperBot:7c765601-9ef3-570c-ba15-090353cfc0e6', 'checkpoint_ns': 'SuperBot:7c765601-9ef3-570c-ba15-090353cfc0e6', 'ls_provider': 'groq', 'ls_model_name': 'llama-3.1-8b-instant', 'ls_model_type': 'chat', 'ls_temperature': 0.7}, 'parent_ids': ['fb6fb530-2d34-40f7-a056-a58a42023fc5', 'b3d65a0b-1504-441a-952d-39fb278fba74']}\n",
      "{'event': 'on_chat_model_stream', 'data': {'chunk': AIMessageChunk(content=\"'m\", additional_kwargs={}, response_metadata={}, id='run--d3d68252-4d3c-4fd7-abdf-1ae7caea8004')}, 'run_id': 'd3d68252-4d3c-4fd7-abdf-1ae7caea8004', 'name': 'ChatGroq', 'tags': ['seq:step:1'], 'metadata': {'thread_id': '5', 'langgraph_step': 1, 'langgraph_node': 'SuperBot', 'langgraph_triggers': ('branch:to:SuperBot',), 'langgraph_path': ('__pregel_pull', 'SuperBot'), 'langgraph_checkpoint_ns': 'SuperBot:7c765601-9ef3-570c-ba15-090353cfc0e6', 'checkpoint_ns': 'SuperBot:7c765601-9ef3-570c-ba15-090353cfc0e6', 'ls_provider': 'groq', 'ls_model_name': 'llama-3.1-8b-instant', 'ls_model_type': 'chat', 'ls_temperature': 0.7}, 'parent_ids': ['fb6fb530-2d34-40f7-a056-a58a42023fc5', 'b3d65a0b-1504-441a-952d-39fb278fba74']}\n",
      "{'event': 'on_chat_model_stream', 'data': {'chunk': AIMessageChunk(content=' sure', additional_kwargs={}, response_metadata={}, id='run--d3d68252-4d3c-4fd7-abdf-1ae7caea8004')}, 'run_id': 'd3d68252-4d3c-4fd7-abdf-1ae7caea8004', 'name': 'ChatGroq', 'tags': ['seq:step:1'], 'metadata': {'thread_id': '5', 'langgraph_step': 1, 'langgraph_node': 'SuperBot', 'langgraph_triggers': ('branch:to:SuperBot',), 'langgraph_path': ('__pregel_pull', 'SuperBot'), 'langgraph_checkpoint_ns': 'SuperBot:7c765601-9ef3-570c-ba15-090353cfc0e6', 'checkpoint_ns': 'SuperBot:7c765601-9ef3-570c-ba15-090353cfc0e6', 'ls_provider': 'groq', 'ls_model_name': 'llama-3.1-8b-instant', 'ls_model_type': 'chat', 'ls_temperature': 0.7}, 'parent_ids': ['fb6fb530-2d34-40f7-a056-a58a42023fc5', 'b3d65a0b-1504-441a-952d-39fb278fba74']}\n",
      "{'event': 'on_chat_model_stream', 'data': {'chunk': AIMessageChunk(content=' you', additional_kwargs={}, response_metadata={}, id='run--d3d68252-4d3c-4fd7-abdf-1ae7caea8004')}, 'run_id': 'd3d68252-4d3c-4fd7-abdf-1ae7caea8004', 'name': 'ChatGroq', 'tags': ['seq:step:1'], 'metadata': {'thread_id': '5', 'langgraph_step': 1, 'langgraph_node': 'SuperBot', 'langgraph_triggers': ('branch:to:SuperBot',), 'langgraph_path': ('__pregel_pull', 'SuperBot'), 'langgraph_checkpoint_ns': 'SuperBot:7c765601-9ef3-570c-ba15-090353cfc0e6', 'checkpoint_ns': 'SuperBot:7c765601-9ef3-570c-ba15-090353cfc0e6', 'ls_provider': 'groq', 'ls_model_name': 'llama-3.1-8b-instant', 'ls_model_type': 'chat', 'ls_temperature': 0.7}, 'parent_ids': ['fb6fb530-2d34-40f7-a056-a58a42023fc5', 'b3d65a0b-1504-441a-952d-39fb278fba74']}\n",
      "{'event': 'on_chat_model_stream', 'data': {'chunk': AIMessageChunk(content=' must', additional_kwargs={}, response_metadata={}, id='run--d3d68252-4d3c-4fd7-abdf-1ae7caea8004')}, 'run_id': 'd3d68252-4d3c-4fd7-abdf-1ae7caea8004', 'name': 'ChatGroq', 'tags': ['seq:step:1'], 'metadata': {'thread_id': '5', 'langgraph_step': 1, 'langgraph_node': 'SuperBot', 'langgraph_triggers': ('branch:to:SuperBot',), 'langgraph_path': ('__pregel_pull', 'SuperBot'), 'langgraph_checkpoint_ns': 'SuperBot:7c765601-9ef3-570c-ba15-090353cfc0e6', 'checkpoint_ns': 'SuperBot:7c765601-9ef3-570c-ba15-090353cfc0e6', 'ls_provider': 'groq', 'ls_model_name': 'llama-3.1-8b-instant', 'ls_model_type': 'chat', 'ls_temperature': 0.7}, 'parent_ids': ['fb6fb530-2d34-40f7-a056-a58a42023fc5', 'b3d65a0b-1504-441a-952d-39fb278fba74']}\n",
      "{'event': 'on_chat_model_stream', 'data': {'chunk': AIMessageChunk(content=' be', additional_kwargs={}, response_metadata={}, id='run--d3d68252-4d3c-4fd7-abdf-1ae7caea8004')}, 'run_id': 'd3d68252-4d3c-4fd7-abdf-1ae7caea8004', 'name': 'ChatGroq', 'tags': ['seq:step:1'], 'metadata': {'thread_id': '5', 'langgraph_step': 1, 'langgraph_node': 'SuperBot', 'langgraph_triggers': ('branch:to:SuperBot',), 'langgraph_path': ('__pregel_pull', 'SuperBot'), 'langgraph_checkpoint_ns': 'SuperBot:7c765601-9ef3-570c-ba15-090353cfc0e6', 'checkpoint_ns': 'SuperBot:7c765601-9ef3-570c-ba15-090353cfc0e6', 'ls_provider': 'groq', 'ls_model_name': 'llama-3.1-8b-instant', 'ls_model_type': 'chat', 'ls_temperature': 0.7}, 'parent_ids': ['fb6fb530-2d34-40f7-a056-a58a42023fc5', 'b3d65a0b-1504-441a-952d-39fb278fba74']}\n",
      "{'event': 'on_chat_model_stream', 'data': {'chunk': AIMessageChunk(content=' passionate', additional_kwargs={}, response_metadata={}, id='run--d3d68252-4d3c-4fd7-abdf-1ae7caea8004')}, 'run_id': 'd3d68252-4d3c-4fd7-abdf-1ae7caea8004', 'name': 'ChatGroq', 'tags': ['seq:step:1'], 'metadata': {'thread_id': '5', 'langgraph_step': 1, 'langgraph_node': 'SuperBot', 'langgraph_triggers': ('branch:to:SuperBot',), 'langgraph_path': ('__pregel_pull', 'SuperBot'), 'langgraph_checkpoint_ns': 'SuperBot:7c765601-9ef3-570c-ba15-090353cfc0e6', 'checkpoint_ns': 'SuperBot:7c765601-9ef3-570c-ba15-090353cfc0e6', 'ls_provider': 'groq', 'ls_model_name': 'llama-3.1-8b-instant', 'ls_model_type': 'chat', 'ls_temperature': 0.7}, 'parent_ids': ['fb6fb530-2d34-40f7-a056-a58a42023fc5', 'b3d65a0b-1504-441a-952d-39fb278fba74']}\n",
      "{'event': 'on_chat_model_stream', 'data': {'chunk': AIMessageChunk(content=' about', additional_kwargs={}, response_metadata={}, id='run--d3d68252-4d3c-4fd7-abdf-1ae7caea8004')}, 'run_id': 'd3d68252-4d3c-4fd7-abdf-1ae7caea8004', 'name': 'ChatGroq', 'tags': ['seq:step:1'], 'metadata': {'thread_id': '5', 'langgraph_step': 1, 'langgraph_node': 'SuperBot', 'langgraph_triggers': ('branch:to:SuperBot',), 'langgraph_path': ('__pregel_pull', 'SuperBot'), 'langgraph_checkpoint_ns': 'SuperBot:7c765601-9ef3-570c-ba15-090353cfc0e6', 'checkpoint_ns': 'SuperBot:7c765601-9ef3-570c-ba15-090353cfc0e6', 'ls_provider': 'groq', 'ls_model_name': 'llama-3.1-8b-instant', 'ls_model_type': 'chat', 'ls_temperature': 0.7}, 'parent_ids': ['fb6fb530-2d34-40f7-a056-a58a42023fc5', 'b3d65a0b-1504-441a-952d-39fb278fba74']}\n",
      "{'event': 'on_chat_model_stream', 'data': {'chunk': AIMessageChunk(content=' it', additional_kwargs={}, response_metadata={}, id='run--d3d68252-4d3c-4fd7-abdf-1ae7caea8004')}, 'run_id': 'd3d68252-4d3c-4fd7-abdf-1ae7caea8004', 'name': 'ChatGroq', 'tags': ['seq:step:1'], 'metadata': {'thread_id': '5', 'langgraph_step': 1, 'langgraph_node': 'SuperBot', 'langgraph_triggers': ('branch:to:SuperBot',), 'langgraph_path': ('__pregel_pull', 'SuperBot'), 'langgraph_checkpoint_ns': 'SuperBot:7c765601-9ef3-570c-ba15-090353cfc0e6', 'checkpoint_ns': 'SuperBot:7c765601-9ef3-570c-ba15-090353cfc0e6', 'ls_provider': 'groq', 'ls_model_name': 'llama-3.1-8b-instant', 'ls_model_type': 'chat', 'ls_temperature': 0.7}, 'parent_ids': ['fb6fb530-2d34-40f7-a056-a58a42023fc5', 'b3d65a0b-1504-441a-952d-39fb278fba74']}\n",
      "{'event': 'on_chat_model_stream', 'data': {'chunk': AIMessageChunk(content='.', additional_kwargs={}, response_metadata={}, id='run--d3d68252-4d3c-4fd7-abdf-1ae7caea8004')}, 'run_id': 'd3d68252-4d3c-4fd7-abdf-1ae7caea8004', 'name': 'ChatGroq', 'tags': ['seq:step:1'], 'metadata': {'thread_id': '5', 'langgraph_step': 1, 'langgraph_node': 'SuperBot', 'langgraph_triggers': ('branch:to:SuperBot',), 'langgraph_path': ('__pregel_pull', 'SuperBot'), 'langgraph_checkpoint_ns': 'SuperBot:7c765601-9ef3-570c-ba15-090353cfc0e6', 'checkpoint_ns': 'SuperBot:7c765601-9ef3-570c-ba15-090353cfc0e6', 'ls_provider': 'groq', 'ls_model_name': 'llama-3.1-8b-instant', 'ls_model_type': 'chat', 'ls_temperature': 0.7}, 'parent_ids': ['fb6fb530-2d34-40f7-a056-a58a42023fc5', 'b3d65a0b-1504-441a-952d-39fb278fba74']}\n",
      "{'event': 'on_chat_model_stream', 'data': {'chunk': AIMessageChunk(content=' Which', additional_kwargs={}, response_metadata={}, id='run--d3d68252-4d3c-4fd7-abdf-1ae7caea8004')}, 'run_id': 'd3d68252-4d3c-4fd7-abdf-1ae7caea8004', 'name': 'ChatGroq', 'tags': ['seq:step:1'], 'metadata': {'thread_id': '5', 'langgraph_step': 1, 'langgraph_node': 'SuperBot', 'langgraph_triggers': ('branch:to:SuperBot',), 'langgraph_path': ('__pregel_pull', 'SuperBot'), 'langgraph_checkpoint_ns': 'SuperBot:7c765601-9ef3-570c-ba15-090353cfc0e6', 'checkpoint_ns': 'SuperBot:7c765601-9ef3-570c-ba15-090353cfc0e6', 'ls_provider': 'groq', 'ls_model_name': 'llama-3.1-8b-instant', 'ls_model_type': 'chat', 'ls_temperature': 0.7}, 'parent_ids': ['fb6fb530-2d34-40f7-a056-a58a42023fc5', 'b3d65a0b-1504-441a-952d-39fb278fba74']}\n",
      "{'event': 'on_chat_model_stream', 'data': {'chunk': AIMessageChunk(content=' role', additional_kwargs={}, response_metadata={}, id='run--d3d68252-4d3c-4fd7-abdf-1ae7caea8004')}, 'run_id': 'd3d68252-4d3c-4fd7-abdf-1ae7caea8004', 'name': 'ChatGroq', 'tags': ['seq:step:1'], 'metadata': {'thread_id': '5', 'langgraph_step': 1, 'langgraph_node': 'SuperBot', 'langgraph_triggers': ('branch:to:SuperBot',), 'langgraph_path': ('__pregel_pull', 'SuperBot'), 'langgraph_checkpoint_ns': 'SuperBot:7c765601-9ef3-570c-ba15-090353cfc0e6', 'checkpoint_ns': 'SuperBot:7c765601-9ef3-570c-ba15-090353cfc0e6', 'ls_provider': 'groq', 'ls_model_name': 'llama-3.1-8b-instant', 'ls_model_type': 'chat', 'ls_temperature': 0.7}, 'parent_ids': ['fb6fb530-2d34-40f7-a056-a58a42023fc5', 'b3d65a0b-1504-441a-952d-39fb278fba74']}\n",
      "{'event': 'on_chat_model_stream', 'data': {'chunk': AIMessageChunk(content=' do', additional_kwargs={}, response_metadata={}, id='run--d3d68252-4d3c-4fd7-abdf-1ae7caea8004')}, 'run_id': 'd3d68252-4d3c-4fd7-abdf-1ae7caea8004', 'name': 'ChatGroq', 'tags': ['seq:step:1'], 'metadata': {'thread_id': '5', 'langgraph_step': 1, 'langgraph_node': 'SuperBot', 'langgraph_triggers': ('branch:to:SuperBot',), 'langgraph_path': ('__pregel_pull', 'SuperBot'), 'langgraph_checkpoint_ns': 'SuperBot:7c765601-9ef3-570c-ba15-090353cfc0e6', 'checkpoint_ns': 'SuperBot:7c765601-9ef3-570c-ba15-090353cfc0e6', 'ls_provider': 'groq', 'ls_model_name': 'llama-3.1-8b-instant', 'ls_model_type': 'chat', 'ls_temperature': 0.7}, 'parent_ids': ['fb6fb530-2d34-40f7-a056-a58a42023fc5', 'b3d65a0b-1504-441a-952d-39fb278fba74']}\n",
      "{'event': 'on_chat_model_stream', 'data': {'chunk': AIMessageChunk(content=' you', additional_kwargs={}, response_metadata={}, id='run--d3d68252-4d3c-4fd7-abdf-1ae7caea8004')}, 'run_id': 'd3d68252-4d3c-4fd7-abdf-1ae7caea8004', 'name': 'ChatGroq', 'tags': ['seq:step:1'], 'metadata': {'thread_id': '5', 'langgraph_step': 1, 'langgraph_node': 'SuperBot', 'langgraph_triggers': ('branch:to:SuperBot',), 'langgraph_path': ('__pregel_pull', 'SuperBot'), 'langgraph_checkpoint_ns': 'SuperBot:7c765601-9ef3-570c-ba15-090353cfc0e6', 'checkpoint_ns': 'SuperBot:7c765601-9ef3-570c-ba15-090353cfc0e6', 'ls_provider': 'groq', 'ls_model_name': 'llama-3.1-8b-instant', 'ls_model_type': 'chat', 'ls_temperature': 0.7}, 'parent_ids': ['fb6fb530-2d34-40f7-a056-a58a42023fc5', 'b3d65a0b-1504-441a-952d-39fb278fba74']}\n",
      "{'event': 'on_chat_model_stream', 'data': {'chunk': AIMessageChunk(content=' play', additional_kwargs={}, response_metadata={}, id='run--d3d68252-4d3c-4fd7-abdf-1ae7caea8004')}, 'run_id': 'd3d68252-4d3c-4fd7-abdf-1ae7caea8004', 'name': 'ChatGroq', 'tags': ['seq:step:1'], 'metadata': {'thread_id': '5', 'langgraph_step': 1, 'langgraph_node': 'SuperBot', 'langgraph_triggers': ('branch:to:SuperBot',), 'langgraph_path': ('__pregel_pull', 'SuperBot'), 'langgraph_checkpoint_ns': 'SuperBot:7c765601-9ef3-570c-ba15-090353cfc0e6', 'checkpoint_ns': 'SuperBot:7c765601-9ef3-570c-ba15-090353cfc0e6', 'ls_provider': 'groq', 'ls_model_name': 'llama-3.1-8b-instant', 'ls_model_type': 'chat', 'ls_temperature': 0.7}, 'parent_ids': ['fb6fb530-2d34-40f7-a056-a58a42023fc5', 'b3d65a0b-1504-441a-952d-39fb278fba74']}\n",
      "{'event': 'on_chat_model_stream', 'data': {'chunk': AIMessageChunk(content=' in', additional_kwargs={}, response_metadata={}, id='run--d3d68252-4d3c-4fd7-abdf-1ae7caea8004')}, 'run_id': 'd3d68252-4d3c-4fd7-abdf-1ae7caea8004', 'name': 'ChatGroq', 'tags': ['seq:step:1'], 'metadata': {'thread_id': '5', 'langgraph_step': 1, 'langgraph_node': 'SuperBot', 'langgraph_triggers': ('branch:to:SuperBot',), 'langgraph_path': ('__pregel_pull', 'SuperBot'), 'langgraph_checkpoint_ns': 'SuperBot:7c765601-9ef3-570c-ba15-090353cfc0e6', 'checkpoint_ns': 'SuperBot:7c765601-9ef3-570c-ba15-090353cfc0e6', 'ls_provider': 'groq', 'ls_model_name': 'llama-3.1-8b-instant', 'ls_model_type': 'chat', 'ls_temperature': 0.7}, 'parent_ids': ['fb6fb530-2d34-40f7-a056-a58a42023fc5', 'b3d65a0b-1504-441a-952d-39fb278fba74']}\n",
      "{'event': 'on_chat_model_stream', 'data': {'chunk': AIMessageChunk(content=' cricket', additional_kwargs={}, response_metadata={}, id='run--d3d68252-4d3c-4fd7-abdf-1ae7caea8004')}, 'run_id': 'd3d68252-4d3c-4fd7-abdf-1ae7caea8004', 'name': 'ChatGroq', 'tags': ['seq:step:1'], 'metadata': {'thread_id': '5', 'langgraph_step': 1, 'langgraph_node': 'SuperBot', 'langgraph_triggers': ('branch:to:SuperBot',), 'langgraph_path': ('__pregel_pull', 'SuperBot'), 'langgraph_checkpoint_ns': 'SuperBot:7c765601-9ef3-570c-ba15-090353cfc0e6', 'checkpoint_ns': 'SuperBot:7c765601-9ef3-570c-ba15-090353cfc0e6', 'ls_provider': 'groq', 'ls_model_name': 'llama-3.1-8b-instant', 'ls_model_type': 'chat', 'ls_temperature': 0.7}, 'parent_ids': ['fb6fb530-2d34-40f7-a056-a58a42023fc5', 'b3d65a0b-1504-441a-952d-39fb278fba74']}\n",
      "{'event': 'on_chat_model_stream', 'data': {'chunk': AIMessageChunk(content=',', additional_kwargs={}, response_metadata={}, id='run--d3d68252-4d3c-4fd7-abdf-1ae7caea8004')}, 'run_id': 'd3d68252-4d3c-4fd7-abdf-1ae7caea8004', 'name': 'ChatGroq', 'tags': ['seq:step:1'], 'metadata': {'thread_id': '5', 'langgraph_step': 1, 'langgraph_node': 'SuperBot', 'langgraph_triggers': ('branch:to:SuperBot',), 'langgraph_path': ('__pregel_pull', 'SuperBot'), 'langgraph_checkpoint_ns': 'SuperBot:7c765601-9ef3-570c-ba15-090353cfc0e6', 'checkpoint_ns': 'SuperBot:7c765601-9ef3-570c-ba15-090353cfc0e6', 'ls_provider': 'groq', 'ls_model_name': 'llama-3.1-8b-instant', 'ls_model_type': 'chat', 'ls_temperature': 0.7}, 'parent_ids': ['fb6fb530-2d34-40f7-a056-a58a42023fc5', 'b3d65a0b-1504-441a-952d-39fb278fba74']}\n",
      "{'event': 'on_chat_model_stream', 'data': {'chunk': AIMessageChunk(content=' bats', additional_kwargs={}, response_metadata={}, id='run--d3d68252-4d3c-4fd7-abdf-1ae7caea8004')}, 'run_id': 'd3d68252-4d3c-4fd7-abdf-1ae7caea8004', 'name': 'ChatGroq', 'tags': ['seq:step:1'], 'metadata': {'thread_id': '5', 'langgraph_step': 1, 'langgraph_node': 'SuperBot', 'langgraph_triggers': ('branch:to:SuperBot',), 'langgraph_path': ('__pregel_pull', 'SuperBot'), 'langgraph_checkpoint_ns': 'SuperBot:7c765601-9ef3-570c-ba15-090353cfc0e6', 'checkpoint_ns': 'SuperBot:7c765601-9ef3-570c-ba15-090353cfc0e6', 'ls_provider': 'groq', 'ls_model_name': 'llama-3.1-8b-instant', 'ls_model_type': 'chat', 'ls_temperature': 0.7}, 'parent_ids': ['fb6fb530-2d34-40f7-a056-a58a42023fc5', 'b3d65a0b-1504-441a-952d-39fb278fba74']}\n",
      "{'event': 'on_chat_model_stream', 'data': {'chunk': AIMessageChunk(content='man', additional_kwargs={}, response_metadata={}, id='run--d3d68252-4d3c-4fd7-abdf-1ae7caea8004')}, 'run_id': 'd3d68252-4d3c-4fd7-abdf-1ae7caea8004', 'name': 'ChatGroq', 'tags': ['seq:step:1'], 'metadata': {'thread_id': '5', 'langgraph_step': 1, 'langgraph_node': 'SuperBot', 'langgraph_triggers': ('branch:to:SuperBot',), 'langgraph_path': ('__pregel_pull', 'SuperBot'), 'langgraph_checkpoint_ns': 'SuperBot:7c765601-9ef3-570c-ba15-090353cfc0e6', 'checkpoint_ns': 'SuperBot:7c765601-9ef3-570c-ba15-090353cfc0e6', 'ls_provider': 'groq', 'ls_model_name': 'llama-3.1-8b-instant', 'ls_model_type': 'chat', 'ls_temperature': 0.7}, 'parent_ids': ['fb6fb530-2d34-40f7-a056-a58a42023fc5', 'b3d65a0b-1504-441a-952d-39fb278fba74']}\n",
      "{'event': 'on_chat_model_stream', 'data': {'chunk': AIMessageChunk(content=',', additional_kwargs={}, response_metadata={}, id='run--d3d68252-4d3c-4fd7-abdf-1ae7caea8004')}, 'run_id': 'd3d68252-4d3c-4fd7-abdf-1ae7caea8004', 'name': 'ChatGroq', 'tags': ['seq:step:1'], 'metadata': {'thread_id': '5', 'langgraph_step': 1, 'langgraph_node': 'SuperBot', 'langgraph_triggers': ('branch:to:SuperBot',), 'langgraph_path': ('__pregel_pull', 'SuperBot'), 'langgraph_checkpoint_ns': 'SuperBot:7c765601-9ef3-570c-ba15-090353cfc0e6', 'checkpoint_ns': 'SuperBot:7c765601-9ef3-570c-ba15-090353cfc0e6', 'ls_provider': 'groq', 'ls_model_name': 'llama-3.1-8b-instant', 'ls_model_type': 'chat', 'ls_temperature': 0.7}, 'parent_ids': ['fb6fb530-2d34-40f7-a056-a58a42023fc5', 'b3d65a0b-1504-441a-952d-39fb278fba74']}\n",
      "{'event': 'on_chat_model_stream', 'data': {'chunk': AIMessageChunk(content=' bow', additional_kwargs={}, response_metadata={}, id='run--d3d68252-4d3c-4fd7-abdf-1ae7caea8004')}, 'run_id': 'd3d68252-4d3c-4fd7-abdf-1ae7caea8004', 'name': 'ChatGroq', 'tags': ['seq:step:1'], 'metadata': {'thread_id': '5', 'langgraph_step': 1, 'langgraph_node': 'SuperBot', 'langgraph_triggers': ('branch:to:SuperBot',), 'langgraph_path': ('__pregel_pull', 'SuperBot'), 'langgraph_checkpoint_ns': 'SuperBot:7c765601-9ef3-570c-ba15-090353cfc0e6', 'checkpoint_ns': 'SuperBot:7c765601-9ef3-570c-ba15-090353cfc0e6', 'ls_provider': 'groq', 'ls_model_name': 'llama-3.1-8b-instant', 'ls_model_type': 'chat', 'ls_temperature': 0.7}, 'parent_ids': ['fb6fb530-2d34-40f7-a056-a58a42023fc5', 'b3d65a0b-1504-441a-952d-39fb278fba74']}\n",
      "{'event': 'on_chat_model_stream', 'data': {'chunk': AIMessageChunk(content='ler', additional_kwargs={}, response_metadata={}, id='run--d3d68252-4d3c-4fd7-abdf-1ae7caea8004')}, 'run_id': 'd3d68252-4d3c-4fd7-abdf-1ae7caea8004', 'name': 'ChatGroq', 'tags': ['seq:step:1'], 'metadata': {'thread_id': '5', 'langgraph_step': 1, 'langgraph_node': 'SuperBot', 'langgraph_triggers': ('branch:to:SuperBot',), 'langgraph_path': ('__pregel_pull', 'SuperBot'), 'langgraph_checkpoint_ns': 'SuperBot:7c765601-9ef3-570c-ba15-090353cfc0e6', 'checkpoint_ns': 'SuperBot:7c765601-9ef3-570c-ba15-090353cfc0e6', 'ls_provider': 'groq', 'ls_model_name': 'llama-3.1-8b-instant', 'ls_model_type': 'chat', 'ls_temperature': 0.7}, 'parent_ids': ['fb6fb530-2d34-40f7-a056-a58a42023fc5', 'b3d65a0b-1504-441a-952d-39fb278fba74']}\n",
      "{'event': 'on_chat_model_stream', 'data': {'chunk': AIMessageChunk(content=',', additional_kwargs={}, response_metadata={}, id='run--d3d68252-4d3c-4fd7-abdf-1ae7caea8004')}, 'run_id': 'd3d68252-4d3c-4fd7-abdf-1ae7caea8004', 'name': 'ChatGroq', 'tags': ['seq:step:1'], 'metadata': {'thread_id': '5', 'langgraph_step': 1, 'langgraph_node': 'SuperBot', 'langgraph_triggers': ('branch:to:SuperBot',), 'langgraph_path': ('__pregel_pull', 'SuperBot'), 'langgraph_checkpoint_ns': 'SuperBot:7c765601-9ef3-570c-ba15-090353cfc0e6', 'checkpoint_ns': 'SuperBot:7c765601-9ef3-570c-ba15-090353cfc0e6', 'ls_provider': 'groq', 'ls_model_name': 'llama-3.1-8b-instant', 'ls_model_type': 'chat', 'ls_temperature': 0.7}, 'parent_ids': ['fb6fb530-2d34-40f7-a056-a58a42023fc5', 'b3d65a0b-1504-441a-952d-39fb278fba74']}\n",
      "{'event': 'on_chat_model_stream', 'data': {'chunk': AIMessageChunk(content=' or', additional_kwargs={}, response_metadata={}, id='run--d3d68252-4d3c-4fd7-abdf-1ae7caea8004')}, 'run_id': 'd3d68252-4d3c-4fd7-abdf-1ae7caea8004', 'name': 'ChatGroq', 'tags': ['seq:step:1'], 'metadata': {'thread_id': '5', 'langgraph_step': 1, 'langgraph_node': 'SuperBot', 'langgraph_triggers': ('branch:to:SuperBot',), 'langgraph_path': ('__pregel_pull', 'SuperBot'), 'langgraph_checkpoint_ns': 'SuperBot:7c765601-9ef3-570c-ba15-090353cfc0e6', 'checkpoint_ns': 'SuperBot:7c765601-9ef3-570c-ba15-090353cfc0e6', 'ls_provider': 'groq', 'ls_model_name': 'llama-3.1-8b-instant', 'ls_model_type': 'chat', 'ls_temperature': 0.7}, 'parent_ids': ['fb6fb530-2d34-40f7-a056-a58a42023fc5', 'b3d65a0b-1504-441a-952d-39fb278fba74']}\n",
      "{'event': 'on_chat_model_stream', 'data': {'chunk': AIMessageChunk(content=' all', additional_kwargs={}, response_metadata={}, id='run--d3d68252-4d3c-4fd7-abdf-1ae7caea8004')}, 'run_id': 'd3d68252-4d3c-4fd7-abdf-1ae7caea8004', 'name': 'ChatGroq', 'tags': ['seq:step:1'], 'metadata': {'thread_id': '5', 'langgraph_step': 1, 'langgraph_node': 'SuperBot', 'langgraph_triggers': ('branch:to:SuperBot',), 'langgraph_path': ('__pregel_pull', 'SuperBot'), 'langgraph_checkpoint_ns': 'SuperBot:7c765601-9ef3-570c-ba15-090353cfc0e6', 'checkpoint_ns': 'SuperBot:7c765601-9ef3-570c-ba15-090353cfc0e6', 'ls_provider': 'groq', 'ls_model_name': 'llama-3.1-8b-instant', 'ls_model_type': 'chat', 'ls_temperature': 0.7}, 'parent_ids': ['fb6fb530-2d34-40f7-a056-a58a42023fc5', 'b3d65a0b-1504-441a-952d-39fb278fba74']}\n",
      "{'event': 'on_chat_model_stream', 'data': {'chunk': AIMessageChunk(content='-', additional_kwargs={}, response_metadata={}, id='run--d3d68252-4d3c-4fd7-abdf-1ae7caea8004')}, 'run_id': 'd3d68252-4d3c-4fd7-abdf-1ae7caea8004', 'name': 'ChatGroq', 'tags': ['seq:step:1'], 'metadata': {'thread_id': '5', 'langgraph_step': 1, 'langgraph_node': 'SuperBot', 'langgraph_triggers': ('branch:to:SuperBot',), 'langgraph_path': ('__pregel_pull', 'SuperBot'), 'langgraph_checkpoint_ns': 'SuperBot:7c765601-9ef3-570c-ba15-090353cfc0e6', 'checkpoint_ns': 'SuperBot:7c765601-9ef3-570c-ba15-090353cfc0e6', 'ls_provider': 'groq', 'ls_model_name': 'llama-3.1-8b-instant', 'ls_model_type': 'chat', 'ls_temperature': 0.7}, 'parent_ids': ['fb6fb530-2d34-40f7-a056-a58a42023fc5', 'b3d65a0b-1504-441a-952d-39fb278fba74']}\n",
      "{'event': 'on_chat_model_stream', 'data': {'chunk': AIMessageChunk(content='rou', additional_kwargs={}, response_metadata={}, id='run--d3d68252-4d3c-4fd7-abdf-1ae7caea8004')}, 'run_id': 'd3d68252-4d3c-4fd7-abdf-1ae7caea8004', 'name': 'ChatGroq', 'tags': ['seq:step:1'], 'metadata': {'thread_id': '5', 'langgraph_step': 1, 'langgraph_node': 'SuperBot', 'langgraph_triggers': ('branch:to:SuperBot',), 'langgraph_path': ('__pregel_pull', 'SuperBot'), 'langgraph_checkpoint_ns': 'SuperBot:7c765601-9ef3-570c-ba15-090353cfc0e6', 'checkpoint_ns': 'SuperBot:7c765601-9ef3-570c-ba15-090353cfc0e6', 'ls_provider': 'groq', 'ls_model_name': 'llama-3.1-8b-instant', 'ls_model_type': 'chat', 'ls_temperature': 0.7}, 'parent_ids': ['fb6fb530-2d34-40f7-a056-a58a42023fc5', 'b3d65a0b-1504-441a-952d-39fb278fba74']}\n",
      "{'event': 'on_chat_model_stream', 'data': {'chunk': AIMessageChunk(content='nder', additional_kwargs={}, response_metadata={}, id='run--d3d68252-4d3c-4fd7-abdf-1ae7caea8004')}, 'run_id': 'd3d68252-4d3c-4fd7-abdf-1ae7caea8004', 'name': 'ChatGroq', 'tags': ['seq:step:1'], 'metadata': {'thread_id': '5', 'langgraph_step': 1, 'langgraph_node': 'SuperBot', 'langgraph_triggers': ('branch:to:SuperBot',), 'langgraph_path': ('__pregel_pull', 'SuperBot'), 'langgraph_checkpoint_ns': 'SuperBot:7c765601-9ef3-570c-ba15-090353cfc0e6', 'checkpoint_ns': 'SuperBot:7c765601-9ef3-570c-ba15-090353cfc0e6', 'ls_provider': 'groq', 'ls_model_name': 'llama-3.1-8b-instant', 'ls_model_type': 'chat', 'ls_temperature': 0.7}, 'parent_ids': ['fb6fb530-2d34-40f7-a056-a58a42023fc5', 'b3d65a0b-1504-441a-952d-39fb278fba74']}\n",
      "{'event': 'on_chat_model_stream', 'data': {'chunk': AIMessageChunk(content='?', additional_kwargs={}, response_metadata={}, id='run--d3d68252-4d3c-4fd7-abdf-1ae7caea8004')}, 'run_id': 'd3d68252-4d3c-4fd7-abdf-1ae7caea8004', 'name': 'ChatGroq', 'tags': ['seq:step:1'], 'metadata': {'thread_id': '5', 'langgraph_step': 1, 'langgraph_node': 'SuperBot', 'langgraph_triggers': ('branch:to:SuperBot',), 'langgraph_path': ('__pregel_pull', 'SuperBot'), 'langgraph_checkpoint_ns': 'SuperBot:7c765601-9ef3-570c-ba15-090353cfc0e6', 'checkpoint_ns': 'SuperBot:7c765601-9ef3-570c-ba15-090353cfc0e6', 'ls_provider': 'groq', 'ls_model_name': 'llama-3.1-8b-instant', 'ls_model_type': 'chat', 'ls_temperature': 0.7}, 'parent_ids': ['fb6fb530-2d34-40f7-a056-a58a42023fc5', 'b3d65a0b-1504-441a-952d-39fb278fba74']}\n",
      "{'event': 'on_chat_model_stream', 'data': {'chunk': AIMessageChunk(content='', additional_kwargs={}, response_metadata={'finish_reason': 'stop', 'model_name': 'llama-3.1-8b-instant', 'system_fingerprint': 'fp_8a13dfab2b', 'service_tier': 'on_demand'}, id='run--d3d68252-4d3c-4fd7-abdf-1ae7caea8004', usage_metadata={'input_tokens': 46, 'output_tokens': 45, 'total_tokens': 91})}, 'run_id': 'd3d68252-4d3c-4fd7-abdf-1ae7caea8004', 'name': 'ChatGroq', 'tags': ['seq:step:1'], 'metadata': {'thread_id': '5', 'langgraph_step': 1, 'langgraph_node': 'SuperBot', 'langgraph_triggers': ('branch:to:SuperBot',), 'langgraph_path': ('__pregel_pull', 'SuperBot'), 'langgraph_checkpoint_ns': 'SuperBot:7c765601-9ef3-570c-ba15-090353cfc0e6', 'checkpoint_ns': 'SuperBot:7c765601-9ef3-570c-ba15-090353cfc0e6', 'ls_provider': 'groq', 'ls_model_name': 'llama-3.1-8b-instant', 'ls_model_type': 'chat', 'ls_temperature': 0.7}, 'parent_ids': ['fb6fb530-2d34-40f7-a056-a58a42023fc5', 'b3d65a0b-1504-441a-952d-39fb278fba74']}\n",
      "{'event': 'on_chat_model_end', 'data': {'output': AIMessage(content=\"Nice to meet you, Krish. Cricket is a fantastic sport, and I'm sure you must be passionate about it. Which role do you play in cricket, batsman, bowler, or all-rounder?\", additional_kwargs={}, response_metadata={'finish_reason': 'stop', 'model_name': 'llama-3.1-8b-instant', 'system_fingerprint': 'fp_8a13dfab2b', 'service_tier': 'on_demand'}, id='run--d3d68252-4d3c-4fd7-abdf-1ae7caea8004', usage_metadata={'input_tokens': 46, 'output_tokens': 45, 'total_tokens': 91}), 'input': {'messages': [[HumanMessage(content='Hi My name is Krish and I like to play cricket', additional_kwargs={}, response_metadata={}, id='84dd0418-2d6b-4f8e-8bcb-3a67b11caba2')]]}}, 'run_id': 'd3d68252-4d3c-4fd7-abdf-1ae7caea8004', 'name': 'ChatGroq', 'tags': ['seq:step:1'], 'metadata': {'thread_id': '5', 'langgraph_step': 1, 'langgraph_node': 'SuperBot', 'langgraph_triggers': ('branch:to:SuperBot',), 'langgraph_path': ('__pregel_pull', 'SuperBot'), 'langgraph_checkpoint_ns': 'SuperBot:7c765601-9ef3-570c-ba15-090353cfc0e6', 'checkpoint_ns': 'SuperBot:7c765601-9ef3-570c-ba15-090353cfc0e6', 'ls_provider': 'groq', 'ls_model_name': 'llama-3.1-8b-instant', 'ls_model_type': 'chat', 'ls_temperature': 0.7}, 'parent_ids': ['fb6fb530-2d34-40f7-a056-a58a42023fc5', 'b3d65a0b-1504-441a-952d-39fb278fba74']}\n",
      "{'event': 'on_chain_stream', 'run_id': 'b3d65a0b-1504-441a-952d-39fb278fba74', 'name': 'SuperBot', 'tags': ['graph:step:1'], 'metadata': {'thread_id': '5', 'langgraph_step': 1, 'langgraph_node': 'SuperBot', 'langgraph_triggers': ('branch:to:SuperBot',), 'langgraph_path': ('__pregel_pull', 'SuperBot'), 'langgraph_checkpoint_ns': 'SuperBot:7c765601-9ef3-570c-ba15-090353cfc0e6'}, 'data': {'chunk': {'messages': [AIMessage(content=\"Nice to meet you, Krish. Cricket is a fantastic sport, and I'm sure you must be passionate about it. Which role do you play in cricket, batsman, bowler, or all-rounder?\", additional_kwargs={}, response_metadata={'finish_reason': 'stop', 'model_name': 'llama-3.1-8b-instant', 'system_fingerprint': 'fp_8a13dfab2b', 'service_tier': 'on_demand'}, id='run--d3d68252-4d3c-4fd7-abdf-1ae7caea8004', usage_metadata={'input_tokens': 46, 'output_tokens': 45, 'total_tokens': 91})]}}, 'parent_ids': ['fb6fb530-2d34-40f7-a056-a58a42023fc5']}\n",
      "{'event': 'on_chain_end', 'data': {'output': {'messages': [AIMessage(content=\"Nice to meet you, Krish. Cricket is a fantastic sport, and I'm sure you must be passionate about it. Which role do you play in cricket, batsman, bowler, or all-rounder?\", additional_kwargs={}, response_metadata={'finish_reason': 'stop', 'model_name': 'llama-3.1-8b-instant', 'system_fingerprint': 'fp_8a13dfab2b', 'service_tier': 'on_demand'}, id='run--d3d68252-4d3c-4fd7-abdf-1ae7caea8004', usage_metadata={'input_tokens': 46, 'output_tokens': 45, 'total_tokens': 91})]}, 'input': {'messages': [HumanMessage(content='Hi My name is Krish and I like to play cricket', additional_kwargs={}, response_metadata={}, id='84dd0418-2d6b-4f8e-8bcb-3a67b11caba2')]}}, 'run_id': 'b3d65a0b-1504-441a-952d-39fb278fba74', 'name': 'SuperBot', 'tags': ['graph:step:1'], 'metadata': {'thread_id': '5', 'langgraph_step': 1, 'langgraph_node': 'SuperBot', 'langgraph_triggers': ('branch:to:SuperBot',), 'langgraph_path': ('__pregel_pull', 'SuperBot'), 'langgraph_checkpoint_ns': 'SuperBot:7c765601-9ef3-570c-ba15-090353cfc0e6'}, 'parent_ids': ['fb6fb530-2d34-40f7-a056-a58a42023fc5']}\n",
      "{'event': 'on_chain_stream', 'run_id': 'fb6fb530-2d34-40f7-a056-a58a42023fc5', 'name': 'LangGraph', 'tags': [], 'metadata': {'thread_id': '5'}, 'data': {'chunk': {'SuperBot': {'messages': [AIMessage(content=\"Nice to meet you, Krish. Cricket is a fantastic sport, and I'm sure you must be passionate about it. Which role do you play in cricket, batsman, bowler, or all-rounder?\", additional_kwargs={}, response_metadata={'finish_reason': 'stop', 'model_name': 'llama-3.1-8b-instant', 'system_fingerprint': 'fp_8a13dfab2b', 'service_tier': 'on_demand'}, id='run--d3d68252-4d3c-4fd7-abdf-1ae7caea8004', usage_metadata={'input_tokens': 46, 'output_tokens': 45, 'total_tokens': 91})]}}}, 'parent_ids': []}\n",
      "{'event': 'on_chain_end', 'data': {'output': {'messages': [HumanMessage(content='Hi My name is Krish and I like to play cricket', additional_kwargs={}, response_metadata={}, id='84dd0418-2d6b-4f8e-8bcb-3a67b11caba2'), AIMessage(content=\"Nice to meet you, Krish. Cricket is a fantastic sport, and I'm sure you must be passionate about it. Which role do you play in cricket, batsman, bowler, or all-rounder?\", additional_kwargs={}, response_metadata={'finish_reason': 'stop', 'model_name': 'llama-3.1-8b-instant', 'system_fingerprint': 'fp_8a13dfab2b', 'service_tier': 'on_demand'}, id='run--d3d68252-4d3c-4fd7-abdf-1ae7caea8004', usage_metadata={'input_tokens': 46, 'output_tokens': 45, 'total_tokens': 91})]}}, 'run_id': 'fb6fb530-2d34-40f7-a056-a58a42023fc5', 'name': 'LangGraph', 'tags': [], 'metadata': {'thread_id': '5'}, 'parent_ids': []}\n"
     ]
    }
   ],
   "source": [
    "config = {\"configurable\": {\"thread_id\": \"5\"}}\n",
    "\n",
    "async for event in graph_builder.astream_events({\"messages\":[\"Hi My name is Krish and I like to play cricket\"]},config,version=\"v2\"):\n",
    "    print(event)"
   ]
  },
  {
   "cell_type": "markdown",
   "id": "c06d01f7",
   "metadata": {},
   "source": [
    "# Human in the loop"
   ]
  },
  {
   "cell_type": "code",
   "execution_count": 88,
   "id": "f82d497b",
   "metadata": {},
   "outputs": [
    {
     "data": {
      "text/plain": [
       "ChatGroq(client=<groq.resources.chat.completions.Completions object at 0x00000205FAEEFED0>, async_client=<groq.resources.chat.completions.AsyncCompletions object at 0x00000205FB356710>, model_name='llama-3.1-8b-instant', model_kwargs={}, groq_api_key=SecretStr('**********'))"
      ]
     },
     "execution_count": 88,
     "metadata": {},
     "output_type": "execute_result"
    }
   ],
   "source": [
    "import os\n",
    "from langchain_groq import ChatGroq\n",
    "\n",
    "llm = ChatGroq(model=\"llama-3.1-8b-instant\")\n",
    "llm"
   ]
  },
  {
   "cell_type": "code",
   "execution_count": 89,
   "id": "c04ca2ab",
   "metadata": {},
   "outputs": [
    {
     "data": {
      "text/plain": [
       "<langgraph.graph.state.StateGraph at 0x205fb0dff20>"
      ]
     },
     "execution_count": 89,
     "metadata": {},
     "output_type": "execute_result"
    }
   ],
   "source": [
    "from typing import Annotated\n",
    "\n",
    "from langchain_tavily import TavilySearch\n",
    "from langchain_core.tools import tool\n",
    "from typing_extensions import TypedDict\n",
    "\n",
    "from langgraph.checkpoint.memory import MemorySaver\n",
    "from langgraph.graph import StateGraph, START, END\n",
    "from langgraph.graph.message import add_messages\n",
    "from langgraph.prebuilt import ToolNode, tools_condition\n",
    "from langgraph.types import Command, interrupt\n",
    "\n",
    "class State(TypedDict):\n",
    "    messages: Annotated[list, add_messages]\n",
    "\n",
    "graph_builder = StateGraph(State)\n",
    "\n",
    "@tool\n",
    "def human_assistance(query: str) -> str:\n",
    "    \"\"\"Request assistance from a human.\"\"\"\n",
    "    human_response = interrupt({\"query\": query})\n",
    "    return human_response[\"data\"]\n",
    "\n",
    "tool = TavilySearch(max_results=2)\n",
    "tools = [tool, human_assistance]\n",
    "llm_with_tools = llm.bind_tools(tools)\n",
    "\n",
    "def chatbot(state: State):\n",
    "    message = llm_with_tools.invoke(state[\"messages\"])\n",
    "    # Because we will be interrupting during tool execution,\n",
    "    # we disable parallel tool calling to avoid repeating any\n",
    "    # tool invocations when we resume.\n",
    "    \n",
    "    return {\"messages\": [message]}\n",
    "\n",
    "graph_builder.add_node(\"chatbot\", chatbot)\n",
    "\n",
    "tool_node = ToolNode(tools=tools)\n",
    "graph_builder.add_node(\"tools\", tool_node)\n",
    "\n",
    "graph_builder.add_conditional_edges(\n",
    "    \"chatbot\",\n",
    "    tools_condition,\n",
    ")\n",
    "graph_builder.add_edge(\"tools\", \"chatbot\")\n",
    "graph_builder.add_edge(START, \"chatbot\")"
   ]
  },
  {
   "cell_type": "code",
   "execution_count": 90,
   "id": "a5d5c28c",
   "metadata": {},
   "outputs": [],
   "source": [
    "\n",
    "memory = MemorySaver()\n",
    "\n",
    "graph = graph_builder.compile(checkpointer=memory)"
   ]
  },
  {
   "cell_type": "code",
   "execution_count": 91,
   "id": "bfee8cfb",
   "metadata": {},
   "outputs": [
    {
     "data": {
      "image/png": "[encoded data removed]",
      "text/plain": [
       "<IPython.core.display.Image object>"
      ]
     },
     "metadata": {},
     "output_type": "display_data"
    }
   ],
   "source": [
    "from IPython.display import Image, display\n",
    "\n",
    "try:\n",
    "    display(Image(graph.get_graph().draw_mermaid_png()))\n",
    "except Exception:\n",
    "    # This requires some extra dependencies and is optional\n",
    "    pass"
   ]
  },
  {
   "cell_type": "code",
   "execution_count": 93,
   "id": "332b8855",
   "metadata": {},
   "outputs": [
    {
     "name": "stdout",
     "output_type": "stream",
     "text": [
      "================================\u001b[1m Human Message \u001b[0m=================================\n",
      "\n",
      "I need some expert guidance and assistance for building an AI agent. Could you request assistance for me?\n",
      "==================================\u001b[1m Ai Message \u001b[0m==================================\n",
      "Tool Calls:\n",
      "  human_assistance (ppm15cd1z)\n",
      " Call ID: ppm15cd1z\n",
      "  Args:\n",
      "    query: request assistance for building an AI agent\n"
     ]
    }
   ],
   "source": [
    "\n",
    "user_input = \"I need some expert guidance and assistance for building an AI agent. Could you request assistance for me?\"\n",
    "config = {\"configurable\": {\"thread_id\": \"1\"}}\n",
    "\n",
    "events = graph.stream(\n",
    "    {\"messages\": user_input},\n",
    "    config,\n",
    "    stream_mode=\"values\",\n",
    ")\n",
    "for event in events:\n",
    "    if \"messages\" in event:\n",
    "        event[\"messages\"][-1].pretty_print()"
   ]
  },
  {
   "cell_type": "code",
   "execution_count": 94,
   "id": "77a084f6",
   "metadata": {},
   "outputs": [
    {
     "name": "stdout",
     "output_type": "stream",
     "text": [
      "==================================\u001b[1m Ai Message \u001b[0m==================================\n",
      "Tool Calls:\n",
      "  human_assistance (ppm15cd1z)\n",
      " Call ID: ppm15cd1z\n",
      "  Args:\n",
      "    query: request assistance for building an AI agent\n",
      "=================================\u001b[1m Tool Message \u001b[0m=================================\n",
      "Name: human_assistance\n",
      "\n",
      "We, the experts are here to help! We'd recommend you check out LangGraph to build your agent. It's much more reliable and extensible than simple autonomous agents.\n",
      "==================================\u001b[1m Ai Message \u001b[0m==================================\n",
      "Tool Calls:\n",
      "  tavily_search (074w3879y)\n",
      " Call ID: 074w3879y\n",
      "  Args:\n",
      "    query: building AI agents with LangGraph\n",
      "    search_depth: advanced\n",
      "    topic: general\n",
      "=================================\u001b[1m Tool Message \u001b[0m=================================\n",
      "Name: tavily_search\n",
      "\n",
      "{\"query\": \"building AI agents with LangGraph\", \"follow_up_questions\": null, \"answer\": null, \"images\": [], \"results\": [{\"url\": \"https://www.getzep.com/ai-agents/langgraph-tutorial/\", \"title\": \"LangGraph Tutorial: Building LLM Agents with LangChain's ... - Zep\", \"content\": \"| Guidelines for building LangGraph agents | LangGraph overcomes LangChain's limitations and is the recommended framework for building agentic architectures. You can integrate tools into your AI agents to provide functionality or fetch information that an LLM agent does not provide. Memory is integral to building production-ready AI agents, and third-party SDKs like Zep simplify adding long-term capabilities. | [...] ## What is LangGraph?\\n\\nLangGraph is an AI agent framework built on LangChain that allows developers to create more sophisticated and flexible agent workflows. Unlike traditional LangChain chains and agents, LangGraph implements agent interactions as cyclic graphs with multiple-step processing involving branching and loops. This eliminates the need to implement custom logic to control the flow of information between multiple agents in the workflow.\\n\\n### How LangGraph works\", \"score\": 0.9126935, \"raw_content\": null}, {\"url\": \"https://medium.com/pythoneers/building-ai-agent-systems-with-langgraph-9d85537a6326\", \"title\": \"Building AI agent systems with LangGraph | by Vishnu Sivan - Medium\", \"content\": \"The diagram illustrates how LangGraph facilitates a dynamic, cyclic workflow for AI agents. The process begins with an initial state, which contains input data or context (in this case, a message from the customer asking about the advantages of solar panels). This state is passed to an agent node, which interacts with the customer to gather information, such as obtaining their electricity bill. After this interaction, the state is updated with the gathered information and passed to an edge, [...] LangGraph is a library built on top of LangChain, designed to create cyclic graphs for LLM-based AI agents.\\n It enables cyclic graph topologies for workflows, allowing more flexible and nuanced agent behaviors than linear models.\\n Utilizes key elements:  \\n   — Nodes: Represent functions or LangChain runnable items.  \\n   — Edges: Define execution and data flow.  \\n   — Stateful graphs: Manage persistent data across execution cycles. [...] ## 3. Building a custom agent\\n\\nNow, let’s create an agent using LangGraph.\\n\\n Import the required libraries.\\n\\n```\\nfrom langgraph.prebuilt import ToolNodefrom langgraph.graph import StateGraph, MessagesState, START, END from import from import\\n```\\n\\n Define a `tool_node` with the available tools. The `ToolNode` is a LangChain Runnable that takes graph state, which includes a list of messages as input and produces an updated state as the results of the tool calls.\", \"score\": 0.9088853, \"raw_content\": null}], \"response_time\": 1.78, \"request_id\": \"efd9b9e2-e619-4147-99f7-6f95f096a880\"}\n",
      "==================================\u001b[1m Ai Message \u001b[0m==================================\n",
      "\n",
      "It looks like the expert guidance was successful, and they provided you with detailed information on how to build an AI agent using LangGraph. They also provided examples of how to create a custom agent and how to utilize LangChain's runnable items.\n",
      "\n",
      "Now that you've received expert guidance, you can proceed with building your AI agent using LangGraph. If you have any further questions or need additional assistance, don't hesitate to ask.\n",
      "\n",
      "Additionally, if you'd like to explore more resources on LangGraph, you can check out the following links:\n",
      "\n",
      "* LangGraph Tutorial: Building LLM Agents with LangChain's LangGraph (https://www.getzep.com/ai-agents/langgraph-tutorial/)\n",
      "* Building AI agent systems with LangGraph (https://medium.com/pythoneers/building-ai-agent-systems-with-langgraph-9d85537a6326)\n",
      "\n",
      "These resources should provide you with a solid understanding of how to build and deploy AI agents using LangGraph.\n"
     ]
    }
   ],
   "source": [
    "human_response = (\n",
    "    \"We, the experts are here to help! We'd recommend you check out LangGraph to build your agent.\"\n",
    "    \" It's much more reliable and extensible than simple autonomous agents.\"\n",
    ")\n",
    "\n",
    "human_command = Command(resume={\"data\": human_response})\n",
    "\n",
    "events = graph.stream(human_command, config, stream_mode=\"values\")\n",
    "for event in events:\n",
    "    if \"messages\" in event:\n",
    "        event[\"messages\"][-1].pretty_print()"
   ]
  },
  {
   "cell_type": "code",
   "execution_count": null,
   "id": "2522f2f0",
   "metadata": {},
   "outputs": [],
   "source": []
  }
 ],
 "metadata": {
  "kernelspec": {
   "display_name": "Chatbot using Langraph and MCP",
   "language": "python",
   "name": "python3"
  },
  "language_info": {
   "codemirror_mode": {
    "name": "ipython",
    "version": 3
   },
   "file_extension": ".py",
   "mimetype": "text/x-python",
   "name": "python",
   "nbconvert_exporter": "python",
   "pygments_lexer": "ipython3",
   "version": "3.13.7"
  }
 },
 "nbformat": 4,
 "nbformat_minor": 5
}
